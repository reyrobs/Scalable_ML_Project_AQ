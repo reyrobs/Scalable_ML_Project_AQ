{
  "nbformat": 4,
  "nbformat_minor": 0,
  "metadata": {
    "colab": {
      "provenance": []
    },
    "kernelspec": {
      "name": "python3",
      "display_name": "Python 3"
    },
    "language_info": {
      "name": "python"
    }
  },
  "cells": [
    {
      "cell_type": "code",
      "source": [
        "!pip install -U hopsworks "
      ],
      "metadata": {
        "id": "5YjWIIQbogXl"
      },
      "execution_count": null,
      "outputs": []
    },
    {
      "cell_type": "code",
      "source": [
        "!pip install dataframe_image"
      ],
      "metadata": {
        "id": "L3aXmvATpFeu"
      },
      "execution_count": null,
      "outputs": []
    },
    {
      "cell_type": "code",
      "source": [
        "!pip install -q streamlit"
      ],
      "metadata": {
        "id": "trR_zvAhpOUH"
      },
      "execution_count": null,
      "outputs": []
    },
    {
      "cell_type": "code",
      "source": [
        "!pip install --upgrade protobuf"
      ],
      "metadata": {
        "id": "lQPsHabcpxW4"
      },
      "execution_count": null,
      "outputs": []
    },
    {
      "cell_type": "code",
      "source": [
        "!pip install streamlit_folium"
      ],
      "metadata": {
        "id": "s3PBL4Htq56r"
      },
      "execution_count": null,
      "outputs": []
    },
    {
      "cell_type": "code",
      "source": [
        "!pip install pyngrok"
      ],
      "metadata": {
        "id": "1IdqQORiRX21"
      },
      "execution_count": null,
      "outputs": []
    },
    {
      "cell_type": "code",
      "source": [
        "!pip install python-dotenv"
      ],
      "metadata": {
        "id": "gApnbtrqzXOQ"
      },
      "execution_count": null,
      "outputs": []
    },
    {
      "cell_type": "code",
      "source": [
        "ngrok.set_auth_token(\"2Jzz5UrcRRGTHRB1KeKe4M38bwG_mDhqRzgG61co9WY6dMVG\")"
      ],
      "metadata": {
        "colab": {
          "base_uri": "https://localhost:8080/"
        },
        "id": "EjQURnOvVeRT",
        "outputId": "7d8e039f-9447-430e-f567-cbd6086f2a6a"
      },
      "execution_count": 48,
      "outputs": [
        {
          "output_type": "stream",
          "name": "stdout",
          "text": []
        },
        {
          "output_type": "stream",
          "name": "stderr",
          "text": [
            "INFO:pyngrok.process:Updating authtoken for default \"config_path\" of \"ngrok_path\": /usr/local/lib/python3.8/dist-packages/pyngrok/bin/ngrok\n",
            "2023-01-07 13:06:02.724 Updating authtoken for default \"config_path\" of \"ngrok_path\": /usr/local/lib/python3.8/dist-packages/pyngrok/bin/ngrok\n"
          ]
        }
      ]
    },
    {
      "cell_type": "code",
      "source": [
        "from pyngrok import ngrok"
      ],
      "metadata": {
        "id": "smLquxXMVKmj"
      },
      "execution_count": 47,
      "outputs": []
    },
    {
      "cell_type": "code",
      "source": [
        "%%writefile app.py\n",
        "import streamlit as st\n",
        "import hopsworks\n",
        "import os\n",
        "import joblib\n",
        "import pandas as pd\n",
        "import dataframe_image as dfi\n",
        "import streamlit as st\n",
        "import joblib\n",
        "import numpy as np\n",
        "import folium\n",
        "from streamlit_folium import st_folium, folium_static\n",
        "import json\n",
        "import time\n",
        "from datetime import timedelta, datetime\n",
        "from branca.element import Figure\n",
        "\n",
        "#----------------------------------HEADER + TITLE\n",
        "def fancy_header(text, font_size=24):\n",
        "    res = f'<span style=\"color:#ff5f27; font-size: {font_size}px;\">{text}</span>'\n",
        "    st.markdown(res, unsafe_allow_html=True )\n",
        "st.title('⛅️Air Quality Prediction Project🌩')\n",
        "\n",
        "progress_bar = st.sidebar.header('⚙️ Working Progress')\n",
        "progress_bar = st.sidebar.progress(0)\n",
        "st.write(36 * \"-\")\n",
        "\n",
        "#-----------------------------------CONNECTING TO HOPSWORKS \n",
        "fancy_header('\\n📡 Connecting to Hopsworks Feature Store...')\n",
        "\n",
        "project = hopsworks.login()\n",
        "\n",
        "st.write(\"Successfully connected!✔️\")\n",
        "progress_bar.progress(20)\n",
        "#------------------------------------  PREDICTION\n",
        "\n",
        "st.write(36 * \"-\")\n",
        "fancy_header('\\n☁️ Getting data for predict ...')\n",
        "city = 'Paris'\n",
        "date = ''\n",
        "\n",
        "WEATHER_API_KEY = os.getenv('WEATHER_API_KEY')\n",
        "df_weather = get_weather_df(city, date, WEATHER_API_KEY)\n",
        "next_7_days = df_weather[\"date\"]\n",
        "data_7_days = df_weather.drop('date', axis=1)\n",
        "\n",
        "mr = project.get_model_registry()\n",
        "model = mr.get_best_model(\"aqi_model\", \"r2\", \"max\")\n",
        "model_dir = model.download()\n",
        "model = joblib.load(model_dir + \"/aqi_model.pkl\")\n",
        "\n",
        "pred_7_days = model.predict(data_7_days)\n",
        "\n",
        "df = pd.DataFrame(data=pred_7_days, index=next_7_days, columns=[f\"AQI Predictions for the next 7 days\"], dtype=int)\n",
        "\n",
        "# >>>cols_names_dict = {\"old name\": \"new name\"}\n",
        "# >>>df = df.rename(columns=cols_names_dict)\n",
        "\n",
        "progress_bar.progress(60)\n",
        "#----------------------------------\n",
        "\n",
        "st.write(36 * \"-\")\n",
        "fancy_header(f\"🗺 Processing the map...\")\n",
        "\n",
        "fig = Figure(width=550,height=350)\n",
        "\n",
        "my_map = folium.Map(location=[58, 20], zoom_start=3.71)\n",
        "fig.add_child(my_map)\n",
        "folium.TileLayer('Stamen Terrain').add_to(my_map)\n",
        "folium.TileLayer('Stamen Toner').add_to(my_map)\n",
        "folium.TileLayer('Stamen Water Color').add_to(my_map)\n",
        "folium.TileLayer('cartodbpositron').add_to(my_map)\n",
        "folium.TileLayer('cartodbdark_matter').add_to(my_map)\n",
        "folium.LayerControl().add_to(my_map)\n",
        "\n",
        "#Determining Paris\n",
        "coords = [48.862, 2.346]\n",
        "#-----\n",
        "city = \"Pris\"\n",
        "country=\"France\"\n",
        "\n",
        "#-----\n",
        "text=\"\"\n",
        "for column in df.columns:\n",
        "        text += f\"\"\"\n",
        "                    <tr>\n",
        "                        <th>{column}:</th>\n",
        "                        <td>{df.loc[0][column]}</td>\n",
        "                    </tr>\"\"\"\n",
        "text += \"\"\"</table>  </h5>\"\"\"\n",
        "#-----\n",
        "\n",
        "folium.Marker(\n",
        "        location=coords, popup=text, tooltip=f\"<strong>{city}</strong>\"\n",
        "    ).add_to(my_map)\n",
        "\n",
        "\n",
        "# call to render Folium map in Streamlit\n",
        "folium_static(my_map)\n",
        "progress_bar.progress(80)\n",
        "st.sidebar.write(\"-\" * 36)\n",
        "\n",
        "\n",
        "st.sidebar.write(df)\n",
        "progress_bar.progress(100)\n",
        "st.button(\"Re-run\")\n"
      ],
      "metadata": {
        "colab": {
          "base_uri": "https://localhost:8080/"
        },
        "id": "HIed7WgkU30G",
        "outputId": "eb5c3063-8275-4f31-82f5-9de5837786b7"
      },
      "execution_count": 84,
      "outputs": [
        {
          "output_type": "stream",
          "name": "stdout",
          "text": [
            "Overwriting app.py\n"
          ]
        }
      ]
    },
    {
      "cell_type": "code",
      "source": [
        "!nohup streamlit run app.py --server.port 80 &\n",
        "url = ngrok.connect(port = '80')\n",
        "print(url)"
      ],
      "metadata": {
        "colab": {
          "base_uri": "https://localhost:8080/"
        },
        "id": "tdGSURy8VqHa",
        "outputId": "5f6d1a64-ecb4-4777-a113-123d070fe98d"
      },
      "execution_count": 52,
      "outputs": [
        {
          "output_type": "stream",
          "name": "stdout",
          "text": [
            "nohup: appending output to 'nohup.out'\n"
          ]
        },
        {
          "output_type": "stream",
          "name": "stderr",
          "text": [
            "INFO:pyngrok.ngrok:Opening tunnel named: http-80-43126356-51d1-4085-b5e2-0afca0881f59\n",
            "2023-01-07 13:09:17.708 Opening tunnel named: http-80-43126356-51d1-4085-b5e2-0afca0881f59\n",
            "INFO:pyngrok.process.ngrok:t=2023-01-07T13:09:17+0000 lvl=info msg=\"no configuration paths supplied\"\n",
            "2023-01-07 13:09:17.781 t=2023-01-07T13:09:17+0000 lvl=info msg=\"no configuration paths supplied\"\n",
            "INFO:pyngrok.process.ngrok:t=2023-01-07T13:09:17+0000 lvl=info msg=\"using configuration at default config path\" path=/root/.ngrok2/ngrok.yml\n",
            "2023-01-07 13:09:17.793 t=2023-01-07T13:09:17+0000 lvl=info msg=\"using configuration at default config path\" path=/root/.ngrok2/ngrok.yml\n",
            "INFO:pyngrok.process.ngrok:t=2023-01-07T13:09:17+0000 lvl=info msg=\"open config file\" path=/root/.ngrok2/ngrok.yml err=nil\n",
            "2023-01-07 13:09:17.806 t=2023-01-07T13:09:17+0000 lvl=info msg=\"open config file\" path=/root/.ngrok2/ngrok.yml err=nil\n",
            "INFO:pyngrok.process.ngrok:t=2023-01-07T13:09:17+0000 lvl=info msg=\"starting web service\" obj=web addr=127.0.0.1:4040\n",
            "2023-01-07 13:09:17.820 t=2023-01-07T13:09:17+0000 lvl=info msg=\"starting web service\" obj=web addr=127.0.0.1:4040\n",
            "INFO:pyngrok.process.ngrok:t=2023-01-07T13:09:17+0000 lvl=info msg=\"tunnel session started\" obj=tunnels.session\n",
            "2023-01-07 13:09:17.956 t=2023-01-07T13:09:17+0000 lvl=info msg=\"tunnel session started\" obj=tunnels.session\n",
            "INFO:pyngrok.process.ngrok:t=2023-01-07T13:09:17+0000 lvl=info msg=\"client session established\" obj=csess id=ab7e437135a4\n",
            "2023-01-07 13:09:17.964 t=2023-01-07T13:09:17+0000 lvl=info msg=\"client session established\" obj=csess id=ab7e437135a4\n",
            "INFO:pyngrok.process.ngrok:t=2023-01-07T13:09:17+0000 lvl=info msg=start pg=/api/tunnels id=8938f82d39f5727d\n",
            "2023-01-07 13:09:17.993 t=2023-01-07T13:09:17+0000 lvl=info msg=start pg=/api/tunnels id=8938f82d39f5727d\n",
            "INFO:pyngrok.process.ngrok:t=2023-01-07T13:09:17+0000 lvl=info msg=end pg=/api/tunnels id=8938f82d39f5727d status=200 dur=390.848µs\n",
            "2023-01-07 13:09:18.005 t=2023-01-07T13:09:17+0000 lvl=info msg=end pg=/api/tunnels id=8938f82d39f5727d status=200 dur=390.848µs\n",
            "INFO:pyngrok.process.ngrok:t=2023-01-07T13:09:17+0000 lvl=info msg=start pg=/api/tunnels id=e95517a9ef5bccbe\n",
            "2023-01-07 13:09:18.018 t=2023-01-07T13:09:17+0000 lvl=info msg=start pg=/api/tunnels id=e95517a9ef5bccbe\n",
            "INFO:pyngrok.process.ngrok:t=2023-01-07T13:09:17+0000 lvl=info msg=end pg=/api/tunnels id=e95517a9ef5bccbe status=200 dur=139.008µs\n",
            "2023-01-07 13:09:18.028 t=2023-01-07T13:09:17+0000 lvl=info msg=end pg=/api/tunnels id=e95517a9ef5bccbe status=200 dur=139.008µs\n",
            "INFO:pyngrok.process.ngrok:t=2023-01-07T13:09:18+0000 lvl=info msg=start pg=/api/tunnels id=c0fe2b467a52e07f\n",
            "2023-01-07 13:09:18.040 t=2023-01-07T13:09:18+0000 lvl=info msg=start pg=/api/tunnels id=c0fe2b467a52e07f\n",
            "INFO:pyngrok.process.ngrok:t=2023-01-07T13:09:18+0000 lvl=info msg=\"started tunnel\" obj=tunnels name=\"http-80-43126356-51d1-4085-b5e2-0afca0881f59 (http)\" addr=http://localhost:80 url=http://d063-34-71-151-161.ngrok.io\n"
          ]
        },
        {
          "output_type": "stream",
          "name": "stdout",
          "text": [
            "NgrokTunnel: \"http://d063-34-71-151-161.ngrok.io\" -> \"http://localhost:80\"\n"
          ]
        },
        {
          "output_type": "stream",
          "name": "stderr",
          "text": [
            "2023-01-07 13:09:18.103 t=2023-01-07T13:09:18+0000 lvl=info msg=\"started tunnel\" obj=tunnels name=\"http-80-43126356-51d1-4085-b5e2-0afca0881f59 (http)\" addr=http://localhost:80 url=http://d063-34-71-151-161.ngrok.io\n",
            "INFO:pyngrok.process.ngrok:t=2023-01-07T13:09:18+0000 lvl=info msg=\"started tunnel\" obj=tunnels name=http-80-43126356-51d1-4085-b5e2-0afca0881f59 addr=http://localhost:80 url=https://d063-34-71-151-161.ngrok.io\n",
            "2023-01-07 13:09:18.116 t=2023-01-07T13:09:18+0000 lvl=info msg=\"started tunnel\" obj=tunnels name=http-80-43126356-51d1-4085-b5e2-0afca0881f59 addr=http://localhost:80 url=https://d063-34-71-151-161.ngrok.io\n",
            "INFO:pyngrok.process.ngrok:t=2023-01-07T13:09:18+0000 lvl=info msg=end pg=/api/tunnels id=c0fe2b467a52e07f status=201 dur=84.022204ms\n",
            "2023-01-07 13:09:18.127 t=2023-01-07T13:09:18+0000 lvl=info msg=end pg=/api/tunnels id=c0fe2b467a52e07f status=201 dur=84.022204ms\n",
            "INFO:pyngrok.process.ngrok:t=2023-01-07T13:09:18+0000 lvl=info msg=start pg=\"/api/tunnels/http-80-43126356-51d1-4085-b5e2-0afca0881f59 (http)\" id=e2b72010d916f625\n",
            "2023-01-07 13:09:18.135 t=2023-01-07T13:09:18+0000 lvl=info msg=start pg=\"/api/tunnels/http-80-43126356-51d1-4085-b5e2-0afca0881f59 (http)\" id=e2b72010d916f625\n",
            "INFO:pyngrok.process.ngrok:t=2023-01-07T13:09:18+0000 lvl=info msg=end pg=\"/api/tunnels/http-80-43126356-51d1-4085-b5e2-0afca0881f59 (http)\" id=e2b72010d916f625 status=200 dur=237.768µs\n",
            "2023-01-07 13:09:18.148 t=2023-01-07T13:09:18+0000 lvl=info msg=end pg=\"/api/tunnels/http-80-43126356-51d1-4085-b5e2-0afca0881f59 (http)\" id=e2b72010d916f625 status=200 dur=237.768µs\n"
          ]
        }
      ]
    }
  ]
}