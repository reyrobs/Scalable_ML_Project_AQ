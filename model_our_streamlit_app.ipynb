{
 "nbformat": 4,
 "nbformat_minor": 0,
 "metadata": {
  "colab": {
   "provenance": []
  },
  "kernelspec": {
   "name": "python3",
   "display_name": "Python 3"
  },
  "language_info": {
   "name": "python"
  }
 },
 "cells": [
  {
   "cell_type": "code",
   "source": [
    "!pip install -U hopsworks"
   ],
   "metadata": {
    "id": "5YjWIIQbogXl"
   },
   "execution_count": 1,
   "outputs": [
    {
     "name": "stdout",
     "output_type": "stream",
     "text": [
      "Requirement already satisfied: hopsworks in c:\\users\\ayber\\pycharmprojects\\scalable_ml_project_aq\\venv\\lib\\site-packages (3.0.5)\n",
      "Requirement already satisfied: pyjks in c:\\users\\ayber\\pycharmprojects\\scalable_ml_project_aq\\venv\\lib\\site-packages (from hopsworks) (20.0.0)\n",
      "Requirement already satisfied: hsfs[python]<3.1.0,>=3.0.0 in c:\\users\\ayber\\pycharmprojects\\scalable_ml_project_aq\\venv\\lib\\site-packages (from hopsworks) (3.0.5)\n",
      "Requirement already satisfied: boto3 in c:\\users\\ayber\\pycharmprojects\\scalable_ml_project_aq\\venv\\lib\\site-packages (from hopsworks) (1.26.43)\n",
      "Requirement already satisfied: hsml<3.1.0,>=3.0.0 in c:\\users\\ayber\\pycharmprojects\\scalable_ml_project_aq\\venv\\lib\\site-packages (from hopsworks) (3.0.3)\n",
      "Requirement already satisfied: mock in c:\\users\\ayber\\pycharmprojects\\scalable_ml_project_aq\\venv\\lib\\site-packages (from hopsworks) (5.0.0)\n",
      "Requirement already satisfied: furl in c:\\users\\ayber\\pycharmprojects\\scalable_ml_project_aq\\venv\\lib\\site-packages (from hopsworks) (2.1.3)\n",
      "Requirement already satisfied: pyhumps==1.6.1 in c:\\users\\ayber\\pycharmprojects\\scalable_ml_project_aq\\venv\\lib\\site-packages (from hopsworks) (1.6.1)\n",
      "Requirement already satisfied: requests in c:\\users\\ayber\\pycharmprojects\\scalable_ml_project_aq\\venv\\lib\\site-packages (from hopsworks) (2.28.1)\n",
      "Requirement already satisfied: tqdm in c:\\users\\ayber\\pycharmprojects\\scalable_ml_project_aq\\venv\\lib\\site-packages (from hopsworks) (4.64.1)\n",
      "Requirement already satisfied: sqlalchemy in c:\\users\\ayber\\pycharmprojects\\scalable_ml_project_aq\\venv\\lib\\site-packages (from hsfs[python]<3.1.0,>=3.0.0->hopsworks) (1.4.46)\n",
      "Requirement already satisfied: great-expectations==0.14.12 in c:\\users\\ayber\\pycharmprojects\\scalable_ml_project_aq\\venv\\lib\\site-packages (from hsfs[python]<3.1.0,>=3.0.0->hopsworks) (0.14.12)\n",
      "Requirement already satisfied: PyMySQL[rsa] in c:\\users\\ayber\\pycharmprojects\\scalable_ml_project_aq\\venv\\lib\\site-packages (from hsfs[python]<3.1.0,>=3.0.0->hopsworks) (1.0.2)\n",
      "Requirement already satisfied: avro==1.10.2 in c:\\users\\ayber\\pycharmprojects\\scalable_ml_project_aq\\venv\\lib\\site-packages (from hsfs[python]<3.1.0,>=3.0.0->hopsworks) (1.10.2)\n",
      "Requirement already satisfied: numpy in c:\\users\\ayber\\pycharmprojects\\scalable_ml_project_aq\\venv\\lib\\site-packages (from hsfs[python]<3.1.0,>=3.0.0->hopsworks) (1.24.1)\n",
      "Requirement already satisfied: markupsafe<2.1.0 in c:\\users\\ayber\\pycharmprojects\\scalable_ml_project_aq\\venv\\lib\\site-packages (from hsfs[python]<3.1.0,>=3.0.0->hopsworks) (2.0.1)\n",
      "Requirement already satisfied: pandas>=1.2.0 in c:\\users\\ayber\\pycharmprojects\\scalable_ml_project_aq\\venv\\lib\\site-packages (from hsfs[python]<3.1.0,>=3.0.0->hopsworks) (1.5.2)\n",
      "Requirement already satisfied: confluent-kafka==1.8.2 in c:\\users\\ayber\\pycharmprojects\\scalable_ml_project_aq\\venv\\lib\\site-packages (from hsfs[python]<3.1.0,>=3.0.0->hopsworks) (1.8.2)\n",
      "Requirement already satisfied: pyarrow in c:\\users\\ayber\\pycharmprojects\\scalable_ml_project_aq\\venv\\lib\\site-packages (from hsfs[python]<3.1.0,>=3.0.0->hopsworks) (10.0.1)\n",
      "Requirement already satisfied: pyhopshive[thrift] in c:\\users\\ayber\\pycharmprojects\\scalable_ml_project_aq\\venv\\lib\\site-packages (from hsfs[python]<3.1.0,>=3.0.0->hopsworks) (0.6.4.1.dev0)\n",
      "Requirement already satisfied: fastavro==1.4.11 in c:\\users\\ayber\\pycharmprojects\\scalable_ml_project_aq\\venv\\lib\\site-packages (from hsfs[python]<3.1.0,>=3.0.0->hopsworks) (1.4.11)\n",
      "Requirement already satisfied: python-dateutil>=2.8.1 in c:\\users\\ayber\\pycharmprojects\\scalable_ml_project_aq\\venv\\lib\\site-packages (from great-expectations==0.14.12->hsfs[python]<3.1.0,>=3.0.0->hopsworks) (2.8.2)\n",
      "Requirement already satisfied: mistune<2.0.0,>=0.8.4 in c:\\users\\ayber\\pycharmprojects\\scalable_ml_project_aq\\venv\\lib\\site-packages (from great-expectations==0.14.12->hsfs[python]<3.1.0,>=3.0.0->hopsworks) (0.8.4)\n",
      "Requirement already satisfied: termcolor>=1.1.0 in c:\\users\\ayber\\pycharmprojects\\scalable_ml_project_aq\\venv\\lib\\site-packages (from great-expectations==0.14.12->hsfs[python]<3.1.0,>=3.0.0->hopsworks) (2.2.0)\n",
      "Requirement already satisfied: jsonpatch>=1.22 in c:\\users\\ayber\\pycharmprojects\\scalable_ml_project_aq\\venv\\lib\\site-packages (from great-expectations==0.14.12->hsfs[python]<3.1.0,>=3.0.0->hopsworks) (1.32)\n",
      "Requirement already satisfied: packaging in c:\\users\\ayber\\pycharmprojects\\scalable_ml_project_aq\\venv\\lib\\site-packages (from great-expectations==0.14.12->hsfs[python]<3.1.0,>=3.0.0->hopsworks) (22.0)\n",
      "Requirement already satisfied: typing-extensions>=3.10.0.0 in c:\\users\\ayber\\pycharmprojects\\scalable_ml_project_aq\\venv\\lib\\site-packages (from great-expectations==0.14.12->hsfs[python]<3.1.0,>=3.0.0->hopsworks) (4.4.0)\n",
      "Requirement already satisfied: nbformat>=5.0 in c:\\users\\ayber\\pycharmprojects\\scalable_ml_project_aq\\venv\\lib\\site-packages (from great-expectations==0.14.12->hsfs[python]<3.1.0,>=3.0.0->hopsworks) (5.7.1)\n",
      "Requirement already satisfied: jinja2<3.1.0,>=2.10 in c:\\users\\ayber\\pycharmprojects\\scalable_ml_project_aq\\venv\\lib\\site-packages (from great-expectations==0.14.12->hsfs[python]<3.1.0,>=3.0.0->hopsworks) (3.0.3)\n",
      "Requirement already satisfied: jsonschema>=2.5.1 in c:\\users\\ayber\\pycharmprojects\\scalable_ml_project_aq\\venv\\lib\\site-packages (from great-expectations==0.14.12->hsfs[python]<3.1.0,>=3.0.0->hopsworks) (4.17.3)\n",
      "Requirement already satisfied: pytz>=2021.3 in c:\\users\\ayber\\pycharmprojects\\scalable_ml_project_aq\\venv\\lib\\site-packages (from great-expectations==0.14.12->hsfs[python]<3.1.0,>=3.0.0->hopsworks) (2022.7)\n",
      "Requirement already satisfied: urllib3<1.27,>=1.25.4 in c:\\users\\ayber\\pycharmprojects\\scalable_ml_project_aq\\venv\\lib\\site-packages (from great-expectations==0.14.12->hsfs[python]<3.1.0,>=3.0.0->hopsworks) (1.26.13)\n",
      "Requirement already satisfied: altair<5,>=4.0.0 in c:\\users\\ayber\\pycharmprojects\\scalable_ml_project_aq\\venv\\lib\\site-packages (from great-expectations==0.14.12->hsfs[python]<3.1.0,>=3.0.0->hopsworks) (4.2.0)\n",
      "Requirement already satisfied: tzlocal>=1.2 in c:\\users\\ayber\\pycharmprojects\\scalable_ml_project_aq\\venv\\lib\\site-packages (from great-expectations==0.14.12->hsfs[python]<3.1.0,>=3.0.0->hopsworks) (4.2)\n",
      "Requirement already satisfied: importlib-metadata>=1.7.0 in c:\\users\\ayber\\pycharmprojects\\scalable_ml_project_aq\\venv\\lib\\site-packages (from great-expectations==0.14.12->hsfs[python]<3.1.0,>=3.0.0->hopsworks) (6.0.0)\n",
      "Requirement already satisfied: Click>=7.1.2 in c:\\users\\ayber\\pycharmprojects\\scalable_ml_project_aq\\venv\\lib\\site-packages (from great-expectations==0.14.12->hsfs[python]<3.1.0,>=3.0.0->hopsworks) (8.1.3)\n",
      "Requirement already satisfied: scipy>=0.19.0 in c:\\users\\ayber\\pycharmprojects\\scalable_ml_project_aq\\venv\\lib\\site-packages (from great-expectations==0.14.12->hsfs[python]<3.1.0,>=3.0.0->hopsworks) (1.10.0)\n",
      "Requirement already satisfied: pyparsing<3,>=2.4 in c:\\users\\ayber\\pycharmprojects\\scalable_ml_project_aq\\venv\\lib\\site-packages (from great-expectations==0.14.12->hsfs[python]<3.1.0,>=3.0.0->hopsworks) (2.4.7)\n",
      "Requirement already satisfied: ruamel.yaml<0.17.18,>=0.16 in c:\\users\\ayber\\pycharmprojects\\scalable_ml_project_aq\\venv\\lib\\site-packages (from great-expectations==0.14.12->hsfs[python]<3.1.0,>=3.0.0->hopsworks) (0.17.17)\n",
      "Requirement already satisfied: cryptography>=3.2 in c:\\users\\ayber\\pycharmprojects\\scalable_ml_project_aq\\venv\\lib\\site-packages (from great-expectations==0.14.12->hsfs[python]<3.1.0,>=3.0.0->hopsworks) (39.0.0)\n",
      "Requirement already satisfied: colorama>=0.4.3 in c:\\users\\ayber\\pycharmprojects\\scalable_ml_project_aq\\venv\\lib\\site-packages (from great-expectations==0.14.12->hsfs[python]<3.1.0,>=3.0.0->hopsworks) (0.4.6)\n",
      "Requirement already satisfied: ipywidgets>=7.5.1 in c:\\users\\ayber\\pycharmprojects\\scalable_ml_project_aq\\venv\\lib\\site-packages (from great-expectations==0.14.12->hsfs[python]<3.1.0,>=3.0.0->hopsworks) (8.0.4)\n",
      "Requirement already satisfied: idna<4,>=2.5 in c:\\users\\ayber\\pycharmprojects\\scalable_ml_project_aq\\venv\\lib\\site-packages (from requests->hopsworks) (3.4)\n",
      "Requirement already satisfied: certifi>=2017.4.17 in c:\\users\\ayber\\pycharmprojects\\scalable_ml_project_aq\\venv\\lib\\site-packages (from requests->hopsworks) (2022.12.7)\n",
      "Requirement already satisfied: charset-normalizer<3,>=2 in c:\\users\\ayber\\pycharmprojects\\scalable_ml_project_aq\\venv\\lib\\site-packages (from requests->hopsworks) (2.1.1)\n",
      "Requirement already satisfied: botocore<1.30.0,>=1.29.43 in c:\\users\\ayber\\pycharmprojects\\scalable_ml_project_aq\\venv\\lib\\site-packages (from boto3->hopsworks) (1.29.43)\n",
      "Requirement already satisfied: jmespath<2.0.0,>=0.7.1 in c:\\users\\ayber\\pycharmprojects\\scalable_ml_project_aq\\venv\\lib\\site-packages (from boto3->hopsworks) (1.0.1)\n",
      "Requirement already satisfied: s3transfer<0.7.0,>=0.6.0 in c:\\users\\ayber\\pycharmprojects\\scalable_ml_project_aq\\venv\\lib\\site-packages (from boto3->hopsworks) (0.6.0)\n",
      "Requirement already satisfied: orderedmultidict>=1.0.1 in c:\\users\\ayber\\pycharmprojects\\scalable_ml_project_aq\\venv\\lib\\site-packages (from furl->hopsworks) (1.0.1)\n",
      "Requirement already satisfied: six>=1.8.0 in c:\\users\\ayber\\pycharmprojects\\scalable_ml_project_aq\\venv\\lib\\site-packages (from furl->hopsworks) (1.16.0)\n",
      "Requirement already satisfied: pyasn1>=0.3.5 in c:\\users\\ayber\\pycharmprojects\\scalable_ml_project_aq\\venv\\lib\\site-packages (from pyjks->hopsworks) (0.4.8)\n",
      "Requirement already satisfied: twofish in c:\\users\\ayber\\pycharmprojects\\scalable_ml_project_aq\\venv\\lib\\site-packages (from pyjks->hopsworks) (0.3.0)\n",
      "Requirement already satisfied: pyasn1-modules in c:\\users\\ayber\\pycharmprojects\\scalable_ml_project_aq\\venv\\lib\\site-packages (from pyjks->hopsworks) (0.2.8)\n",
      "Requirement already satisfied: javaobj-py3 in c:\\users\\ayber\\pycharmprojects\\scalable_ml_project_aq\\venv\\lib\\site-packages (from pyjks->hopsworks) (0.4.3)\n",
      "Requirement already satisfied: pycryptodomex in c:\\users\\ayber\\pycharmprojects\\scalable_ml_project_aq\\venv\\lib\\site-packages (from pyjks->hopsworks) (3.16.0)\n",
      "Requirement already satisfied: future in c:\\users\\ayber\\pycharmprojects\\scalable_ml_project_aq\\venv\\lib\\site-packages (from pyhopshive[thrift]->hsfs[python]<3.1.0,>=3.0.0->hopsworks) (0.18.2)\n",
      "Requirement already satisfied: thrift>=0.10.0 in c:\\users\\ayber\\pycharmprojects\\scalable_ml_project_aq\\venv\\lib\\site-packages (from pyhopshive[thrift]->hsfs[python]<3.1.0,>=3.0.0->hopsworks) (0.16.0)\n",
      "Requirement already satisfied: greenlet!=0.4.17 in c:\\users\\ayber\\pycharmprojects\\scalable_ml_project_aq\\venv\\lib\\site-packages (from sqlalchemy->hsfs[python]<3.1.0,>=3.0.0->hopsworks) (2.0.1)\n",
      "Requirement already satisfied: toolz in c:\\users\\ayber\\pycharmprojects\\scalable_ml_project_aq\\venv\\lib\\site-packages (from altair<5,>=4.0.0->great-expectations==0.14.12->hsfs[python]<3.1.0,>=3.0.0->hopsworks) (0.12.0)\n",
      "Requirement already satisfied: entrypoints in c:\\users\\ayber\\pycharmprojects\\scalable_ml_project_aq\\venv\\lib\\site-packages (from altair<5,>=4.0.0->great-expectations==0.14.12->hsfs[python]<3.1.0,>=3.0.0->hopsworks) (0.4)\n",
      "Requirement already satisfied: cffi>=1.12 in c:\\users\\ayber\\pycharmprojects\\scalable_ml_project_aq\\venv\\lib\\site-packages (from cryptography>=3.2->great-expectations==0.14.12->hsfs[python]<3.1.0,>=3.0.0->hopsworks) (1.15.1)\n",
      "Requirement already satisfied: zipp>=0.5 in c:\\users\\ayber\\pycharmprojects\\scalable_ml_project_aq\\venv\\lib\\site-packages (from importlib-metadata>=1.7.0->great-expectations==0.14.12->hsfs[python]<3.1.0,>=3.0.0->hopsworks) (3.11.0)\n",
      "Requirement already satisfied: jupyterlab-widgets~=3.0 in c:\\users\\ayber\\pycharmprojects\\scalable_ml_project_aq\\venv\\lib\\site-packages (from ipywidgets>=7.5.1->great-expectations==0.14.12->hsfs[python]<3.1.0,>=3.0.0->hopsworks) (3.0.5)\n",
      "Requirement already satisfied: widgetsnbextension~=4.0 in c:\\users\\ayber\\pycharmprojects\\scalable_ml_project_aq\\venv\\lib\\site-packages (from ipywidgets>=7.5.1->great-expectations==0.14.12->hsfs[python]<3.1.0,>=3.0.0->hopsworks) (4.0.5)\n",
      "Requirement already satisfied: ipykernel>=4.5.1 in c:\\users\\ayber\\pycharmprojects\\scalable_ml_project_aq\\venv\\lib\\site-packages (from ipywidgets>=7.5.1->great-expectations==0.14.12->hsfs[python]<3.1.0,>=3.0.0->hopsworks) (6.19.4)\n",
      "Requirement already satisfied: traitlets>=4.3.1 in c:\\users\\ayber\\pycharmprojects\\scalable_ml_project_aq\\venv\\lib\\site-packages (from ipywidgets>=7.5.1->great-expectations==0.14.12->hsfs[python]<3.1.0,>=3.0.0->hopsworks) (5.8.0)\n",
      "Requirement already satisfied: ipython>=6.1.0 in c:\\users\\ayber\\pycharmprojects\\scalable_ml_project_aq\\venv\\lib\\site-packages (from ipywidgets>=7.5.1->great-expectations==0.14.12->hsfs[python]<3.1.0,>=3.0.0->hopsworks) (8.8.0)\n",
      "Requirement already satisfied: jsonpointer>=1.9 in c:\\users\\ayber\\pycharmprojects\\scalable_ml_project_aq\\venv\\lib\\site-packages (from jsonpatch>=1.22->great-expectations==0.14.12->hsfs[python]<3.1.0,>=3.0.0->hopsworks) (2.3)\n",
      "Requirement already satisfied: attrs>=17.4.0 in c:\\users\\ayber\\pycharmprojects\\scalable_ml_project_aq\\venv\\lib\\site-packages (from jsonschema>=2.5.1->great-expectations==0.14.12->hsfs[python]<3.1.0,>=3.0.0->hopsworks) (22.2.0)\n",
      "Requirement already satisfied: pyrsistent!=0.17.0,!=0.17.1,!=0.17.2,>=0.14.0 in c:\\users\\ayber\\pycharmprojects\\scalable_ml_project_aq\\venv\\lib\\site-packages (from jsonschema>=2.5.1->great-expectations==0.14.12->hsfs[python]<3.1.0,>=3.0.0->hopsworks) (0.19.3)\n",
      "Requirement already satisfied: fastjsonschema in c:\\users\\ayber\\pycharmprojects\\scalable_ml_project_aq\\venv\\lib\\site-packages (from nbformat>=5.0->great-expectations==0.14.12->hsfs[python]<3.1.0,>=3.0.0->hopsworks) (2.16.2)\n",
      "Requirement already satisfied: jupyter-core in c:\\users\\ayber\\pycharmprojects\\scalable_ml_project_aq\\venv\\lib\\site-packages (from nbformat>=5.0->great-expectations==0.14.12->hsfs[python]<3.1.0,>=3.0.0->hopsworks) (5.1.2)\n",
      "Requirement already satisfied: ruamel.yaml.clib>=0.1.2 in c:\\users\\ayber\\pycharmprojects\\scalable_ml_project_aq\\venv\\lib\\site-packages (from ruamel.yaml<0.17.18,>=0.16->great-expectations==0.14.12->hsfs[python]<3.1.0,>=3.0.0->hopsworks) (0.2.7)\n",
      "Requirement already satisfied: tzdata in c:\\users\\ayber\\pycharmprojects\\scalable_ml_project_aq\\venv\\lib\\site-packages (from tzlocal>=1.2->great-expectations==0.14.12->hsfs[python]<3.1.0,>=3.0.0->hopsworks) (2022.7)\n",
      "Requirement already satisfied: pytz-deprecation-shim in c:\\users\\ayber\\pycharmprojects\\scalable_ml_project_aq\\venv\\lib\\site-packages (from tzlocal>=1.2->great-expectations==0.14.12->hsfs[python]<3.1.0,>=3.0.0->hopsworks) (0.1.0.post0)\n",
      "Requirement already satisfied: pycparser in c:\\users\\ayber\\pycharmprojects\\scalable_ml_project_aq\\venv\\lib\\site-packages (from cffi>=1.12->cryptography>=3.2->great-expectations==0.14.12->hsfs[python]<3.1.0,>=3.0.0->hopsworks) (2.21)\n",
      "Requirement already satisfied: jupyter-client>=6.1.12 in c:\\users\\ayber\\pycharmprojects\\scalable_ml_project_aq\\venv\\lib\\site-packages (from ipykernel>=4.5.1->ipywidgets>=7.5.1->great-expectations==0.14.12->hsfs[python]<3.1.0,>=3.0.0->hopsworks) (7.4.8)\n",
      "Requirement already satisfied: pyzmq>=17 in c:\\users\\ayber\\pycharmprojects\\scalable_ml_project_aq\\venv\\lib\\site-packages (from ipykernel>=4.5.1->ipywidgets>=7.5.1->great-expectations==0.14.12->hsfs[python]<3.1.0,>=3.0.0->hopsworks) (24.0.1)\n",
      "Requirement already satisfied: debugpy>=1.0 in c:\\users\\ayber\\pycharmprojects\\scalable_ml_project_aq\\venv\\lib\\site-packages (from ipykernel>=4.5.1->ipywidgets>=7.5.1->great-expectations==0.14.12->hsfs[python]<3.1.0,>=3.0.0->hopsworks) (1.6.4)\n",
      "Requirement already satisfied: matplotlib-inline>=0.1 in c:\\users\\ayber\\pycharmprojects\\scalable_ml_project_aq\\venv\\lib\\site-packages (from ipykernel>=4.5.1->ipywidgets>=7.5.1->great-expectations==0.14.12->hsfs[python]<3.1.0,>=3.0.0->hopsworks) (0.1.6)\n",
      "Requirement already satisfied: psutil in c:\\users\\ayber\\pycharmprojects\\scalable_ml_project_aq\\venv\\lib\\site-packages (from ipykernel>=4.5.1->ipywidgets>=7.5.1->great-expectations==0.14.12->hsfs[python]<3.1.0,>=3.0.0->hopsworks) (5.9.4)\n",
      "Requirement already satisfied: comm>=0.1.1 in c:\\users\\ayber\\pycharmprojects\\scalable_ml_project_aq\\venv\\lib\\site-packages (from ipykernel>=4.5.1->ipywidgets>=7.5.1->great-expectations==0.14.12->hsfs[python]<3.1.0,>=3.0.0->hopsworks) (0.1.2)\n",
      "Requirement already satisfied: nest-asyncio in c:\\users\\ayber\\pycharmprojects\\scalable_ml_project_aq\\venv\\lib\\site-packages (from ipykernel>=4.5.1->ipywidgets>=7.5.1->great-expectations==0.14.12->hsfs[python]<3.1.0,>=3.0.0->hopsworks) (1.5.6)\n",
      "Requirement already satisfied: tornado>=6.1 in c:\\users\\ayber\\pycharmprojects\\scalable_ml_project_aq\\venv\\lib\\site-packages (from ipykernel>=4.5.1->ipywidgets>=7.5.1->great-expectations==0.14.12->hsfs[python]<3.1.0,>=3.0.0->hopsworks) (6.2)\n",
      "Requirement already satisfied: stack-data in c:\\users\\ayber\\pycharmprojects\\scalable_ml_project_aq\\venv\\lib\\site-packages (from ipython>=6.1.0->ipywidgets>=7.5.1->great-expectations==0.14.12->hsfs[python]<3.1.0,>=3.0.0->hopsworks) (0.6.2)\n",
      "Requirement already satisfied: decorator in c:\\users\\ayber\\pycharmprojects\\scalable_ml_project_aq\\venv\\lib\\site-packages (from ipython>=6.1.0->ipywidgets>=7.5.1->great-expectations==0.14.12->hsfs[python]<3.1.0,>=3.0.0->hopsworks) (5.1.1)\n",
      "Requirement already satisfied: pickleshare in c:\\users\\ayber\\pycharmprojects\\scalable_ml_project_aq\\venv\\lib\\site-packages (from ipython>=6.1.0->ipywidgets>=7.5.1->great-expectations==0.14.12->hsfs[python]<3.1.0,>=3.0.0->hopsworks) (0.7.5)\n",
      "Requirement already satisfied: prompt-toolkit<3.1.0,>=3.0.11 in c:\\users\\ayber\\pycharmprojects\\scalable_ml_project_aq\\venv\\lib\\site-packages (from ipython>=6.1.0->ipywidgets>=7.5.1->great-expectations==0.14.12->hsfs[python]<3.1.0,>=3.0.0->hopsworks) (3.0.36)\n",
      "Requirement already satisfied: backcall in c:\\users\\ayber\\pycharmprojects\\scalable_ml_project_aq\\venv\\lib\\site-packages (from ipython>=6.1.0->ipywidgets>=7.5.1->great-expectations==0.14.12->hsfs[python]<3.1.0,>=3.0.0->hopsworks) (0.2.0)\n",
      "Requirement already satisfied: jedi>=0.16 in c:\\users\\ayber\\pycharmprojects\\scalable_ml_project_aq\\venv\\lib\\site-packages (from ipython>=6.1.0->ipywidgets>=7.5.1->great-expectations==0.14.12->hsfs[python]<3.1.0,>=3.0.0->hopsworks) (0.18.2)\n",
      "Requirement already satisfied: pygments>=2.4.0 in c:\\users\\ayber\\pycharmprojects\\scalable_ml_project_aq\\venv\\lib\\site-packages (from ipython>=6.1.0->ipywidgets>=7.5.1->great-expectations==0.14.12->hsfs[python]<3.1.0,>=3.0.0->hopsworks) (2.14.0)\n",
      "Requirement already satisfied: pywin32>=1.0 in c:\\users\\ayber\\pycharmprojects\\scalable_ml_project_aq\\venv\\lib\\site-packages (from jupyter-core->nbformat>=5.0->great-expectations==0.14.12->hsfs[python]<3.1.0,>=3.0.0->hopsworks) (305)\n",
      "Requirement already satisfied: platformdirs>=2.5 in c:\\users\\ayber\\pycharmprojects\\scalable_ml_project_aq\\venv\\lib\\site-packages (from jupyter-core->nbformat>=5.0->great-expectations==0.14.12->hsfs[python]<3.1.0,>=3.0.0->hopsworks) (2.6.2)\n",
      "Requirement already satisfied: parso<0.9.0,>=0.8.0 in c:\\users\\ayber\\pycharmprojects\\scalable_ml_project_aq\\venv\\lib\\site-packages (from jedi>=0.16->ipython>=6.1.0->ipywidgets>=7.5.1->great-expectations==0.14.12->hsfs[python]<3.1.0,>=3.0.0->hopsworks) (0.8.3)\n",
      "Requirement already satisfied: wcwidth in c:\\users\\ayber\\pycharmprojects\\scalable_ml_project_aq\\venv\\lib\\site-packages (from prompt-toolkit<3.1.0,>=3.0.11->ipython>=6.1.0->ipywidgets>=7.5.1->great-expectations==0.14.12->hsfs[python]<3.1.0,>=3.0.0->hopsworks) (0.2.5)\n",
      "Requirement already satisfied: asttokens>=2.1.0 in c:\\users\\ayber\\pycharmprojects\\scalable_ml_project_aq\\venv\\lib\\site-packages (from stack-data->ipython>=6.1.0->ipywidgets>=7.5.1->great-expectations==0.14.12->hsfs[python]<3.1.0,>=3.0.0->hopsworks) (2.2.1)\n",
      "Requirement already satisfied: pure-eval in c:\\users\\ayber\\pycharmprojects\\scalable_ml_project_aq\\venv\\lib\\site-packages (from stack-data->ipython>=6.1.0->ipywidgets>=7.5.1->great-expectations==0.14.12->hsfs[python]<3.1.0,>=3.0.0->hopsworks) (0.2.2)\n",
      "Requirement already satisfied: executing>=1.2.0 in c:\\users\\ayber\\pycharmprojects\\scalable_ml_project_aq\\venv\\lib\\site-packages (from stack-data->ipython>=6.1.0->ipywidgets>=7.5.1->great-expectations==0.14.12->hsfs[python]<3.1.0,>=3.0.0->hopsworks) (1.2.0)\n"
     ]
    },
    {
     "name": "stderr",
     "output_type": "stream",
     "text": [
      "WARNING: You are using pip version 21.3.1; however, version 22.3.1 is available.\n",
      "You should consider upgrading via the 'C:\\Users\\ayber\\PycharmProjects\\Scalable_ML_Project_AQ\\venv\\Scripts\\python.exe -m pip install --upgrade pip' command.\n"
     ]
    }
   ]
  },
  {
   "cell_type": "code",
   "source": [
    "!pip install dataframe_image"
   ],
   "metadata": {
    "id": "L3aXmvATpFeu"
   },
   "execution_count": 2,
   "outputs": [
    {
     "name": "stdout",
     "output_type": "stream",
     "text": [
      "Requirement already satisfied: dataframe_image in c:\\users\\ayber\\pycharmprojects\\scalable_ml_project_aq\\venv\\lib\\site-packages (0.1.3)\n",
      "Requirement already satisfied: matplotlib>=3.1 in c:\\users\\ayber\\pycharmprojects\\scalable_ml_project_aq\\venv\\lib\\site-packages (from dataframe_image) (3.6.2)\n",
      "Requirement already satisfied: nbconvert>=5 in c:\\users\\ayber\\pycharmprojects\\scalable_ml_project_aq\\venv\\lib\\site-packages (from dataframe_image) (6.5.4)\n",
      "Requirement already satisfied: aiohttp in c:\\users\\ayber\\pycharmprojects\\scalable_ml_project_aq\\venv\\lib\\site-packages (from dataframe_image) (3.8.3)\n",
      "Requirement already satisfied: mistune in c:\\users\\ayber\\pycharmprojects\\scalable_ml_project_aq\\venv\\lib\\site-packages (from dataframe_image) (0.8.4)\n",
      "Requirement already satisfied: beautifulsoup4 in c:\\users\\ayber\\pycharmprojects\\scalable_ml_project_aq\\venv\\lib\\site-packages (from dataframe_image) (4.11.1)\n",
      "Requirement already satisfied: packaging in c:\\users\\ayber\\pycharmprojects\\scalable_ml_project_aq\\venv\\lib\\site-packages (from dataframe_image) (22.0)\n",
      "Requirement already satisfied: requests in c:\\users\\ayber\\pycharmprojects\\scalable_ml_project_aq\\venv\\lib\\site-packages (from dataframe_image) (2.28.1)\n",
      "Requirement already satisfied: pandas>=0.24 in c:\\users\\ayber\\pycharmprojects\\scalable_ml_project_aq\\venv\\lib\\site-packages (from dataframe_image) (1.5.2)\n",
      "Requirement already satisfied: pillow>=6.2.0 in c:\\users\\ayber\\pycharmprojects\\scalable_ml_project_aq\\venv\\lib\\site-packages (from matplotlib>=3.1->dataframe_image) (9.4.0)\n",
      "Requirement already satisfied: cycler>=0.10 in c:\\users\\ayber\\pycharmprojects\\scalable_ml_project_aq\\venv\\lib\\site-packages (from matplotlib>=3.1->dataframe_image) (0.11.0)\n",
      "Requirement already satisfied: numpy>=1.19 in c:\\users\\ayber\\pycharmprojects\\scalable_ml_project_aq\\venv\\lib\\site-packages (from matplotlib>=3.1->dataframe_image) (1.24.1)\n",
      "Requirement already satisfied: contourpy>=1.0.1 in c:\\users\\ayber\\pycharmprojects\\scalable_ml_project_aq\\venv\\lib\\site-packages (from matplotlib>=3.1->dataframe_image) (1.0.6)\n",
      "Requirement already satisfied: pyparsing>=2.2.1 in c:\\users\\ayber\\pycharmprojects\\scalable_ml_project_aq\\venv\\lib\\site-packages (from matplotlib>=3.1->dataframe_image) (2.4.7)\n",
      "Requirement already satisfied: kiwisolver>=1.0.1 in c:\\users\\ayber\\pycharmprojects\\scalable_ml_project_aq\\venv\\lib\\site-packages (from matplotlib>=3.1->dataframe_image) (1.4.4)\n",
      "Requirement already satisfied: python-dateutil>=2.7 in c:\\users\\ayber\\pycharmprojects\\scalable_ml_project_aq\\venv\\lib\\site-packages (from matplotlib>=3.1->dataframe_image) (2.8.2)\n",
      "Requirement already satisfied: fonttools>=4.22.0 in c:\\users\\ayber\\pycharmprojects\\scalable_ml_project_aq\\venv\\lib\\site-packages (from matplotlib>=3.1->dataframe_image) (4.38.0)\n",
      "Requirement already satisfied: jupyter-core>=4.7 in c:\\users\\ayber\\pycharmprojects\\scalable_ml_project_aq\\venv\\lib\\site-packages (from nbconvert>=5->dataframe_image) (5.1.2)\n",
      "Requirement already satisfied: nbclient>=0.5.0 in c:\\users\\ayber\\pycharmprojects\\scalable_ml_project_aq\\venv\\lib\\site-packages (from nbconvert>=5->dataframe_image) (0.7.2)\n",
      "Requirement already satisfied: bleach in c:\\users\\ayber\\pycharmprojects\\scalable_ml_project_aq\\venv\\lib\\site-packages (from nbconvert>=5->dataframe_image) (5.0.1)\n",
      "Requirement already satisfied: pygments>=2.4.1 in c:\\users\\ayber\\pycharmprojects\\scalable_ml_project_aq\\venv\\lib\\site-packages (from nbconvert>=5->dataframe_image) (2.14.0)\n",
      "Requirement already satisfied: defusedxml in c:\\users\\ayber\\pycharmprojects\\scalable_ml_project_aq\\venv\\lib\\site-packages (from nbconvert>=5->dataframe_image) (0.7.1)\n",
      "Requirement already satisfied: tinycss2 in c:\\users\\ayber\\pycharmprojects\\scalable_ml_project_aq\\venv\\lib\\site-packages (from nbconvert>=5->dataframe_image) (1.2.1)\n",
      "Requirement already satisfied: traitlets>=5.0 in c:\\users\\ayber\\pycharmprojects\\scalable_ml_project_aq\\venv\\lib\\site-packages (from nbconvert>=5->dataframe_image) (5.8.0)\n",
      "Requirement already satisfied: lxml in c:\\users\\ayber\\pycharmprojects\\scalable_ml_project_aq\\venv\\lib\\site-packages (from nbconvert>=5->dataframe_image) (4.9.2)\n",
      "Requirement already satisfied: jinja2>=3.0 in c:\\users\\ayber\\pycharmprojects\\scalable_ml_project_aq\\venv\\lib\\site-packages (from nbconvert>=5->dataframe_image) (3.0.3)\n",
      "Requirement already satisfied: nbformat>=5.1 in c:\\users\\ayber\\pycharmprojects\\scalable_ml_project_aq\\venv\\lib\\site-packages (from nbconvert>=5->dataframe_image) (5.7.1)\n",
      "Requirement already satisfied: pandocfilters>=1.4.1 in c:\\users\\ayber\\pycharmprojects\\scalable_ml_project_aq\\venv\\lib\\site-packages (from nbconvert>=5->dataframe_image) (1.5.0)\n",
      "Requirement already satisfied: MarkupSafe>=2.0 in c:\\users\\ayber\\pycharmprojects\\scalable_ml_project_aq\\venv\\lib\\site-packages (from nbconvert>=5->dataframe_image) (2.0.1)\n",
      "Requirement already satisfied: entrypoints>=0.2.2 in c:\\users\\ayber\\pycharmprojects\\scalable_ml_project_aq\\venv\\lib\\site-packages (from nbconvert>=5->dataframe_image) (0.4)\n",
      "Requirement already satisfied: jupyterlab-pygments in c:\\users\\ayber\\pycharmprojects\\scalable_ml_project_aq\\venv\\lib\\site-packages (from nbconvert>=5->dataframe_image) (0.2.2)\n",
      "Requirement already satisfied: pytz>=2020.1 in c:\\users\\ayber\\pycharmprojects\\scalable_ml_project_aq\\venv\\lib\\site-packages (from pandas>=0.24->dataframe_image) (2022.7)\n",
      "Requirement already satisfied: attrs>=17.3.0 in c:\\users\\ayber\\pycharmprojects\\scalable_ml_project_aq\\venv\\lib\\site-packages (from aiohttp->dataframe_image) (22.2.0)\n",
      "Requirement already satisfied: frozenlist>=1.1.1 in c:\\users\\ayber\\pycharmprojects\\scalable_ml_project_aq\\venv\\lib\\site-packages (from aiohttp->dataframe_image) (1.3.3)\n",
      "Requirement already satisfied: async-timeout<5.0,>=4.0.0a3 in c:\\users\\ayber\\pycharmprojects\\scalable_ml_project_aq\\venv\\lib\\site-packages (from aiohttp->dataframe_image) (4.0.2)\n",
      "Requirement already satisfied: yarl<2.0,>=1.0 in c:\\users\\ayber\\pycharmprojects\\scalable_ml_project_aq\\venv\\lib\\site-packages (from aiohttp->dataframe_image) (1.8.2)\n",
      "Requirement already satisfied: charset-normalizer<3.0,>=2.0 in c:\\users\\ayber\\pycharmprojects\\scalable_ml_project_aq\\venv\\lib\\site-packages (from aiohttp->dataframe_image) (2.1.1)\n",
      "Requirement already satisfied: aiosignal>=1.1.2 in c:\\users\\ayber\\pycharmprojects\\scalable_ml_project_aq\\venv\\lib\\site-packages (from aiohttp->dataframe_image) (1.3.1)\n",
      "Requirement already satisfied: multidict<7.0,>=4.5 in c:\\users\\ayber\\pycharmprojects\\scalable_ml_project_aq\\venv\\lib\\site-packages (from aiohttp->dataframe_image) (6.0.4)\n",
      "Requirement already satisfied: soupsieve>1.2 in c:\\users\\ayber\\pycharmprojects\\scalable_ml_project_aq\\venv\\lib\\site-packages (from beautifulsoup4->dataframe_image) (2.3.2.post1)\n",
      "Requirement already satisfied: idna<4,>=2.5 in c:\\users\\ayber\\pycharmprojects\\scalable_ml_project_aq\\venv\\lib\\site-packages (from requests->dataframe_image) (3.4)\n",
      "Requirement already satisfied: certifi>=2017.4.17 in c:\\users\\ayber\\pycharmprojects\\scalable_ml_project_aq\\venv\\lib\\site-packages (from requests->dataframe_image) (2022.12.7)\n",
      "Requirement already satisfied: urllib3<1.27,>=1.21.1 in c:\\users\\ayber\\pycharmprojects\\scalable_ml_project_aq\\venv\\lib\\site-packages (from requests->dataframe_image) (1.26.13)\n",
      "Requirement already satisfied: pywin32>=1.0 in c:\\users\\ayber\\pycharmprojects\\scalable_ml_project_aq\\venv\\lib\\site-packages (from jupyter-core>=4.7->nbconvert>=5->dataframe_image) (305)\n",
      "Requirement already satisfied: platformdirs>=2.5 in c:\\users\\ayber\\pycharmprojects\\scalable_ml_project_aq\\venv\\lib\\site-packages (from jupyter-core>=4.7->nbconvert>=5->dataframe_image) (2.6.2)\n",
      "Requirement already satisfied: jupyter-client>=6.1.12 in c:\\users\\ayber\\pycharmprojects\\scalable_ml_project_aq\\venv\\lib\\site-packages (from nbclient>=0.5.0->nbconvert>=5->dataframe_image) (7.4.8)\n",
      "Requirement already satisfied: jsonschema>=2.6 in c:\\users\\ayber\\pycharmprojects\\scalable_ml_project_aq\\venv\\lib\\site-packages (from nbformat>=5.1->nbconvert>=5->dataframe_image) (4.17.3)\n",
      "Requirement already satisfied: fastjsonschema in c:\\users\\ayber\\pycharmprojects\\scalable_ml_project_aq\\venv\\lib\\site-packages (from nbformat>=5.1->nbconvert>=5->dataframe_image) (2.16.2)\n",
      "Requirement already satisfied: six>=1.5 in c:\\users\\ayber\\pycharmprojects\\scalable_ml_project_aq\\venv\\lib\\site-packages (from python-dateutil>=2.7->matplotlib>=3.1->dataframe_image) (1.16.0)\n",
      "Requirement already satisfied: webencodings in c:\\users\\ayber\\pycharmprojects\\scalable_ml_project_aq\\venv\\lib\\site-packages (from bleach->nbconvert>=5->dataframe_image) (0.5.1)\n",
      "Requirement already satisfied: pyrsistent!=0.17.0,!=0.17.1,!=0.17.2,>=0.14.0 in c:\\users\\ayber\\pycharmprojects\\scalable_ml_project_aq\\venv\\lib\\site-packages (from jsonschema>=2.6->nbformat>=5.1->nbconvert>=5->dataframe_image) (0.19.3)\n",
      "Requirement already satisfied: pyzmq>=23.0 in c:\\users\\ayber\\pycharmprojects\\scalable_ml_project_aq\\venv\\lib\\site-packages (from jupyter-client>=6.1.12->nbclient>=0.5.0->nbconvert>=5->dataframe_image) (24.0.1)\n",
      "Requirement already satisfied: nest-asyncio>=1.5.4 in c:\\users\\ayber\\pycharmprojects\\scalable_ml_project_aq\\venv\\lib\\site-packages (from jupyter-client>=6.1.12->nbclient>=0.5.0->nbconvert>=5->dataframe_image) (1.5.6)\n",
      "Requirement already satisfied: tornado>=6.2 in c:\\users\\ayber\\pycharmprojects\\scalable_ml_project_aq\\venv\\lib\\site-packages (from jupyter-client>=6.1.12->nbclient>=0.5.0->nbconvert>=5->dataframe_image) (6.2)\n"
     ]
    },
    {
     "name": "stderr",
     "output_type": "stream",
     "text": [
      "WARNING: You are using pip version 21.3.1; however, version 22.3.1 is available.\n",
      "You should consider upgrading via the 'C:\\Users\\ayber\\PycharmProjects\\Scalable_ML_Project_AQ\\venv\\Scripts\\python.exe -m pip install --upgrade pip' command.\n"
     ]
    }
   ]
  },
  {
   "cell_type": "code",
   "source": [
    "!pip install -q streamlit"
   ],
   "metadata": {
    "id": "trR_zvAhpOUH"
   },
   "execution_count": 3,
   "outputs": [
    {
     "name": "stderr",
     "output_type": "stream",
     "text": [
      "WARNING: You are using pip version 21.3.1; however, version 22.3.1 is available.\n",
      "You should consider upgrading via the 'C:\\Users\\ayber\\PycharmProjects\\Scalable_ML_Project_AQ\\venv\\Scripts\\python.exe -m pip install --upgrade pip' command.\n"
     ]
    }
   ]
  },
  {
   "cell_type": "code",
   "source": [
    "!pip install --upgrade protobuf"
   ],
   "metadata": {
    "id": "lQPsHabcpxW4"
   },
   "execution_count": 4,
   "outputs": [
    {
     "name": "stdout",
     "output_type": "stream",
     "text": [
      "Requirement already satisfied: protobuf in c:\\users\\ayber\\pycharmprojects\\scalable_ml_project_aq\\venv\\lib\\site-packages (3.20.3)\n",
      "Collecting protobuf\n",
      "  Using cached protobuf-4.21.12-cp39-cp39-win_amd64.whl (527 kB)\n",
      "Installing collected packages: protobuf\n",
      "  Attempting uninstall: protobuf\n",
      "    Found existing installation: protobuf 3.20.3\n",
      "    Uninstalling protobuf-3.20.3:\n",
      "      Successfully uninstalled protobuf-3.20.3\n",
      "Successfully installed protobuf-4.21.12\n"
     ]
    },
    {
     "name": "stderr",
     "output_type": "stream",
     "text": [
      "ERROR: pip's dependency resolver does not currently take into account all the packages that are installed. This behaviour is the source of the following dependency conflicts.\n",
      "streamlit 1.12.0 requires protobuf<4,>=3.12, but you have protobuf 4.21.12 which is incompatible.\n",
      "WARNING: You are using pip version 21.3.1; however, version 22.3.1 is available.\n",
      "You should consider upgrading via the 'C:\\Users\\ayber\\PycharmProjects\\Scalable_ML_Project_AQ\\venv\\Scripts\\python.exe -m pip install --upgrade pip' command.\n"
     ]
    }
   ]
  },
  {
   "cell_type": "code",
   "source": [
    "!pip install streamlit_folium"
   ],
   "metadata": {
    "id": "s3PBL4Htq56r"
   },
   "execution_count": 5,
   "outputs": [
    {
     "name": "stdout",
     "output_type": "stream",
     "text": [
      "Collecting streamlit_folium\n",
      "  Downloading streamlit_folium-0.10.0-py3-none-any.whl (422 kB)\n",
      "Collecting folium>=0.13\n",
      "  Downloading folium-0.14.0-py2.py3-none-any.whl (102 kB)\n",
      "Requirement already satisfied: streamlit>=1.2 in c:\\users\\ayber\\pycharmprojects\\scalable_ml_project_aq\\venv\\lib\\site-packages (from streamlit_folium) (1.12.0)\n",
      "Collecting branca\n",
      "  Downloading branca-0.6.0-py3-none-any.whl (24 kB)\n",
      "Requirement already satisfied: jinja2 in c:\\users\\ayber\\pycharmprojects\\scalable_ml_project_aq\\venv\\lib\\site-packages (from streamlit_folium) (3.0.3)\n",
      "Requirement already satisfied: requests in c:\\users\\ayber\\pycharmprojects\\scalable_ml_project_aq\\venv\\lib\\site-packages (from folium>=0.13->streamlit_folium) (2.28.1)\n",
      "Requirement already satisfied: numpy in c:\\users\\ayber\\pycharmprojects\\scalable_ml_project_aq\\venv\\lib\\site-packages (from folium>=0.13->streamlit_folium) (1.24.1)\n",
      "Requirement already satisfied: MarkupSafe>=2.0 in c:\\users\\ayber\\pycharmprojects\\scalable_ml_project_aq\\venv\\lib\\site-packages (from jinja2->streamlit_folium) (2.0.1)\n",
      "Requirement already satisfied: packaging>=14.1 in c:\\users\\ayber\\pycharmprojects\\scalable_ml_project_aq\\venv\\lib\\site-packages (from streamlit>=1.2->streamlit_folium) (22.0)\n",
      "Requirement already satisfied: typing-extensions>=3.10.0.0 in c:\\users\\ayber\\pycharmprojects\\scalable_ml_project_aq\\venv\\lib\\site-packages (from streamlit>=1.2->streamlit_folium) (4.4.0)\n",
      "Requirement already satisfied: watchdog in c:\\users\\ayber\\pycharmprojects\\scalable_ml_project_aq\\venv\\lib\\site-packages (from streamlit>=1.2->streamlit_folium) (2.2.1)\n",
      "Collecting protobuf<4,>=3.12\n",
      "  Using cached protobuf-3.20.3-cp39-cp39-win_amd64.whl (904 kB)\n",
      "Requirement already satisfied: tornado>=5.0 in c:\\users\\ayber\\pycharmprojects\\scalable_ml_project_aq\\venv\\lib\\site-packages (from streamlit>=1.2->streamlit_folium) (6.2)\n",
      "Requirement already satisfied: pyarrow>=4.0 in c:\\users\\ayber\\pycharmprojects\\scalable_ml_project_aq\\venv\\lib\\site-packages (from streamlit>=1.2->streamlit_folium) (10.0.1)\n",
      "Requirement already satisfied: validators>=0.2 in c:\\users\\ayber\\pycharmprojects\\scalable_ml_project_aq\\venv\\lib\\site-packages (from streamlit>=1.2->streamlit_folium) (0.20.0)\n",
      "Requirement already satisfied: tzlocal>=1.1 in c:\\users\\ayber\\pycharmprojects\\scalable_ml_project_aq\\venv\\lib\\site-packages (from streamlit>=1.2->streamlit_folium) (4.2)\n",
      "Requirement already satisfied: cachetools>=4.0 in c:\\users\\ayber\\pycharmprojects\\scalable_ml_project_aq\\venv\\lib\\site-packages (from streamlit>=1.2->streamlit_folium) (5.2.1)\n",
      "Requirement already satisfied: toml in c:\\users\\ayber\\pycharmprojects\\scalable_ml_project_aq\\venv\\lib\\site-packages (from streamlit>=1.2->streamlit_folium) (0.10.2)\n",
      "Requirement already satisfied: gitpython!=3.1.19 in c:\\users\\ayber\\pycharmprojects\\scalable_ml_project_aq\\venv\\lib\\site-packages (from streamlit>=1.2->streamlit_folium) (3.1.30)\n",
      "Requirement already satisfied: pandas>=0.21.0 in c:\\users\\ayber\\pycharmprojects\\scalable_ml_project_aq\\venv\\lib\\site-packages (from streamlit>=1.2->streamlit_folium) (1.5.2)\n",
      "Requirement already satisfied: pillow>=6.2.0 in c:\\users\\ayber\\pycharmprojects\\scalable_ml_project_aq\\venv\\lib\\site-packages (from streamlit>=1.2->streamlit_folium) (9.4.0)\n",
      "Requirement already satisfied: importlib-metadata>=1.4 in c:\\users\\ayber\\pycharmprojects\\scalable_ml_project_aq\\venv\\lib\\site-packages (from streamlit>=1.2->streamlit_folium) (6.0.0)\n",
      "Requirement already satisfied: altair>=3.2.0 in c:\\users\\ayber\\pycharmprojects\\scalable_ml_project_aq\\venv\\lib\\site-packages (from streamlit>=1.2->streamlit_folium) (4.2.0)\n",
      "Requirement already satisfied: pympler>=0.9 in c:\\users\\ayber\\pycharmprojects\\scalable_ml_project_aq\\venv\\lib\\site-packages (from streamlit>=1.2->streamlit_folium) (1.0.1)\n",
      "Requirement already satisfied: python-dateutil in c:\\users\\ayber\\pycharmprojects\\scalable_ml_project_aq\\venv\\lib\\site-packages (from streamlit>=1.2->streamlit_folium) (2.8.2)\n",
      "Requirement already satisfied: pydeck>=0.1.dev5 in c:\\users\\ayber\\pycharmprojects\\scalable_ml_project_aq\\venv\\lib\\site-packages (from streamlit>=1.2->streamlit_folium) (0.8.0)\n",
      "Requirement already satisfied: click>=7.0 in c:\\users\\ayber\\pycharmprojects\\scalable_ml_project_aq\\venv\\lib\\site-packages (from streamlit>=1.2->streamlit_folium) (8.1.3)\n",
      "Requirement already satisfied: semver in c:\\users\\ayber\\pycharmprojects\\scalable_ml_project_aq\\venv\\lib\\site-packages (from streamlit>=1.2->streamlit_folium) (2.13.0)\n",
      "Requirement already satisfied: blinker>=1.0.0 in c:\\users\\ayber\\pycharmprojects\\scalable_ml_project_aq\\venv\\lib\\site-packages (from streamlit>=1.2->streamlit_folium) (1.5)\n",
      "Requirement already satisfied: rich>=10.11.0 in c:\\users\\ayber\\pycharmprojects\\scalable_ml_project_aq\\venv\\lib\\site-packages (from streamlit>=1.2->streamlit_folium) (13.0.0)\n",
      "Requirement already satisfied: entrypoints in c:\\users\\ayber\\pycharmprojects\\scalable_ml_project_aq\\venv\\lib\\site-packages (from altair>=3.2.0->streamlit>=1.2->streamlit_folium) (0.4)\n",
      "Requirement already satisfied: jsonschema>=3.0 in c:\\users\\ayber\\pycharmprojects\\scalable_ml_project_aq\\venv\\lib\\site-packages (from altair>=3.2.0->streamlit>=1.2->streamlit_folium) (4.17.3)\n",
      "Requirement already satisfied: toolz in c:\\users\\ayber\\pycharmprojects\\scalable_ml_project_aq\\venv\\lib\\site-packages (from altair>=3.2.0->streamlit>=1.2->streamlit_folium) (0.12.0)\n",
      "Requirement already satisfied: colorama in c:\\users\\ayber\\pycharmprojects\\scalable_ml_project_aq\\venv\\lib\\site-packages (from click>=7.0->streamlit>=1.2->streamlit_folium) (0.4.6)\n",
      "Requirement already satisfied: gitdb<5,>=4.0.1 in c:\\users\\ayber\\pycharmprojects\\scalable_ml_project_aq\\venv\\lib\\site-packages (from gitpython!=3.1.19->streamlit>=1.2->streamlit_folium) (4.0.10)\n",
      "Requirement already satisfied: zipp>=0.5 in c:\\users\\ayber\\pycharmprojects\\scalable_ml_project_aq\\venv\\lib\\site-packages (from importlib-metadata>=1.4->streamlit>=1.2->streamlit_folium) (3.11.0)\n",
      "Requirement already satisfied: pytz>=2020.1 in c:\\users\\ayber\\pycharmprojects\\scalable_ml_project_aq\\venv\\lib\\site-packages (from pandas>=0.21.0->streamlit>=1.2->streamlit_folium) (2022.7)\n",
      "Requirement already satisfied: six>=1.5 in c:\\users\\ayber\\pycharmprojects\\scalable_ml_project_aq\\venv\\lib\\site-packages (from python-dateutil->streamlit>=1.2->streamlit_folium) (1.16.0)\n",
      "Requirement already satisfied: charset-normalizer<3,>=2 in c:\\users\\ayber\\pycharmprojects\\scalable_ml_project_aq\\venv\\lib\\site-packages (from requests->folium>=0.13->streamlit_folium) (2.1.1)\n",
      "Requirement already satisfied: certifi>=2017.4.17 in c:\\users\\ayber\\pycharmprojects\\scalable_ml_project_aq\\venv\\lib\\site-packages (from requests->folium>=0.13->streamlit_folium) (2022.12.7)\n",
      "Requirement already satisfied: urllib3<1.27,>=1.21.1 in c:\\users\\ayber\\pycharmprojects\\scalable_ml_project_aq\\venv\\lib\\site-packages (from requests->folium>=0.13->streamlit_folium) (1.26.13)\n",
      "Requirement already satisfied: idna<4,>=2.5 in c:\\users\\ayber\\pycharmprojects\\scalable_ml_project_aq\\venv\\lib\\site-packages (from requests->folium>=0.13->streamlit_folium) (3.4)\n",
      "Requirement already satisfied: commonmark<0.10.0,>=0.9.0 in c:\\users\\ayber\\pycharmprojects\\scalable_ml_project_aq\\venv\\lib\\site-packages (from rich>=10.11.0->streamlit>=1.2->streamlit_folium) (0.9.1)\n",
      "Requirement already satisfied: pygments<3.0.0,>=2.6.0 in c:\\users\\ayber\\pycharmprojects\\scalable_ml_project_aq\\venv\\lib\\site-packages (from rich>=10.11.0->streamlit>=1.2->streamlit_folium) (2.14.0)\n",
      "Requirement already satisfied: pytz-deprecation-shim in c:\\users\\ayber\\pycharmprojects\\scalable_ml_project_aq\\venv\\lib\\site-packages (from tzlocal>=1.1->streamlit>=1.2->streamlit_folium) (0.1.0.post0)\n",
      "Requirement already satisfied: tzdata in c:\\users\\ayber\\pycharmprojects\\scalable_ml_project_aq\\venv\\lib\\site-packages (from tzlocal>=1.1->streamlit>=1.2->streamlit_folium) (2022.7)\n",
      "Requirement already satisfied: decorator>=3.4.0 in c:\\users\\ayber\\pycharmprojects\\scalable_ml_project_aq\\venv\\lib\\site-packages (from validators>=0.2->streamlit>=1.2->streamlit_folium) (5.1.1)\n",
      "Requirement already satisfied: smmap<6,>=3.0.1 in c:\\users\\ayber\\pycharmprojects\\scalable_ml_project_aq\\venv\\lib\\site-packages (from gitdb<5,>=4.0.1->gitpython!=3.1.19->streamlit>=1.2->streamlit_folium) (5.0.0)\n",
      "Requirement already satisfied: pyrsistent!=0.17.0,!=0.17.1,!=0.17.2,>=0.14.0 in c:\\users\\ayber\\pycharmprojects\\scalable_ml_project_aq\\venv\\lib\\site-packages (from jsonschema>=3.0->altair>=3.2.0->streamlit>=1.2->streamlit_folium) (0.19.3)\n",
      "Requirement already satisfied: attrs>=17.4.0 in c:\\users\\ayber\\pycharmprojects\\scalable_ml_project_aq\\venv\\lib\\site-packages (from jsonschema>=3.0->altair>=3.2.0->streamlit>=1.2->streamlit_folium) (22.2.0)\n",
      "Installing collected packages: protobuf, branca, folium, streamlit-folium\n",
      "  Attempting uninstall: protobuf\n",
      "    Found existing installation: protobuf 4.21.12\n",
      "    Uninstalling protobuf-4.21.12:\n",
      "      Successfully uninstalled protobuf-4.21.12\n",
      "Successfully installed branca-0.6.0 folium-0.14.0 protobuf-3.20.3 streamlit-folium-0.10.0\n"
     ]
    },
    {
     "name": "stderr",
     "output_type": "stream",
     "text": [
      "WARNING: You are using pip version 21.3.1; however, version 22.3.1 is available.\n",
      "You should consider upgrading via the 'C:\\Users\\ayber\\PycharmProjects\\Scalable_ML_Project_AQ\\venv\\Scripts\\python.exe -m pip install --upgrade pip' command.\n"
     ]
    }
   ]
  },
  {
   "cell_type": "code",
   "source": [
    "!pip install pyngrok"
   ],
   "metadata": {
    "id": "1IdqQORiRX21"
   },
   "execution_count": 6,
   "outputs": [
    {
     "name": "stdout",
     "output_type": "stream",
     "text": [
      "Collecting pyngrok\n",
      "  Downloading pyngrok-5.2.1.tar.gz (761 kB)\n",
      "  Preparing metadata (setup.py): started\n",
      "  Preparing metadata (setup.py): finished with status 'done'\n",
      "Requirement already satisfied: PyYAML in c:\\users\\ayber\\pycharmprojects\\scalable_ml_project_aq\\venv\\lib\\site-packages (from pyngrok) (6.0)\n",
      "Building wheels for collected packages: pyngrok\n",
      "  Building wheel for pyngrok (setup.py): started\n",
      "  Building wheel for pyngrok (setup.py): finished with status 'done'\n",
      "  Created wheel for pyngrok: filename=pyngrok-5.2.1-py3-none-any.whl size=19793 sha256=8744185c15b53e1d4ccc1d7d9d63965faf0a9b8bfc150891cdcdacfa78f1d4b5\n",
      "  Stored in directory: c:\\users\\ayber\\appdata\\local\\pip\\cache\\wheels\\f6\\89\\59\\49d4249e00957e94813ac136a335d10ed2e09a856c5096f95c\n",
      "Successfully built pyngrok\n",
      "Installing collected packages: pyngrok\n",
      "Successfully installed pyngrok-5.2.1\n"
     ]
    },
    {
     "name": "stderr",
     "output_type": "stream",
     "text": [
      "WARNING: You are using pip version 21.3.1; however, version 22.3.1 is available.\n",
      "You should consider upgrading via the 'C:\\Users\\ayber\\PycharmProjects\\Scalable_ML_Project_AQ\\venv\\Scripts\\python.exe -m pip install --upgrade pip' command.\n"
     ]
    }
   ]
  },
  {
   "cell_type": "code",
   "source": [
    "!pip install python-dotenv"
   ],
   "metadata": {
    "id": "gApnbtrqzXOQ"
   },
   "execution_count": 7,
   "outputs": [
    {
     "name": "stdout",
     "output_type": "stream",
     "text": [
      "Requirement already satisfied: python-dotenv in c:\\users\\ayber\\pycharmprojects\\scalable_ml_project_aq\\venv\\lib\\site-packages (0.21.0)\n"
     ]
    },
    {
     "name": "stderr",
     "output_type": "stream",
     "text": [
      "WARNING: You are using pip version 21.3.1; however, version 22.3.1 is available.\n",
      "You should consider upgrading via the 'C:\\Users\\ayber\\PycharmProjects\\Scalable_ML_Project_AQ\\venv\\Scripts\\python.exe -m pip install --upgrade pip' command.\n"
     ]
    }
   ]
  },
  {
   "cell_type": "code",
   "source": [
    "from pyngrok import ngrok"
   ],
   "metadata": {
    "id": "smLquxXMVKmj"
   },
   "execution_count": 8,
   "outputs": []
  },
  {
   "cell_type": "code",
   "source": [
    "ngrok.set_auth_token(\"2Jzz5UrcRRGTHRB1KeKe4M38bwG_mDhqRzgG61co9WY6dMVG\")"
   ],
   "metadata": {
    "id": "EjQURnOvVeRT"
   },
   "execution_count": 9,
   "outputs": [
    {
     "name": "stdout",
     "output_type": "stream",
     "text": [
      "Installing ngrok ... \r                                                                                                                                                                                  \r"
     ]
    }
   ]
  },
  {
   "cell_type": "code",
   "source": [
    "import hopsworks\n",
    "project = hopsworks.login()\n"
   ],
   "metadata": {
    "colab": {
     "base_uri": "https://localhost:8080/"
    },
    "id": "ZCVAcL7dqqX-",
    "outputId": "cda1f8ec-088a-4ebd-bed6-58515ddff8ad"
   },
   "execution_count": 10,
   "outputs": [
    {
     "name": "stdout",
     "output_type": "stream",
     "text": [
      "Connected. Call `.close()` to terminate connection gracefully.\n",
      "\n",
      "Logged in to project, explore it here https://c.app.hopsworks.ai:443/p/5330\n"
     ]
    }
   ]
  },
  {
   "cell_type": "code",
   "source": [
    "!git clone 'https://github.com/reyrobs/Scalable_ML_Project_AQ.git'"
   ],
   "metadata": {
    "colab": {
     "base_uri": "https://localhost:8080/"
    },
    "id": "WYdWBLNWr3c0",
    "outputId": "804bf195-0c8c-4a7e-9994-83aa6db8252b"
   },
   "execution_count": 11,
   "outputs": [
    {
     "output_type": "stream",
     "name": "stdout",
     "text": [
      "fatal: destination path 'Scalable_ML_Project_AQ' already exists and is not an empty directory.\n"
     ]
    }
   ]
  },
  {
   "cell_type": "code",
   "source": [
    "!pip install sklearn"
   ],
   "metadata": {
    "id": "niJjMFd5r4qS",
    "colab": {
     "base_uri": "https://localhost:8080/"
    },
    "outputId": "fc752013-c354-4e48-e22f-52df3ee7654f"
   },
   "execution_count": 11,
   "outputs": [
    {
     "name": "stdout",
     "output_type": "stream",
     "text": [
      "Collecting sklearn\n",
      "  Downloading sklearn-0.0.post1.tar.gz (3.6 kB)\n",
      "  Preparing metadata (setup.py): started\n",
      "  Preparing metadata (setup.py): finished with status 'done'\n",
      "Building wheels for collected packages: sklearn\n",
      "  Building wheel for sklearn (setup.py): started\n",
      "  Building wheel for sklearn (setup.py): finished with status 'done'\n",
      "  Created wheel for sklearn: filename=sklearn-0.0.post1-py3-none-any.whl size=2344 sha256=f02c13f66a2d6809f0b23709f0bf80040a483ca420118f0cb1d3584eb58a8bda\n",
      "  Stored in directory: c:\\users\\ayber\\appdata\\local\\pip\\cache\\wheels\\f8\\e0\\3d\\9d0c2020c44a519b9f02ab4fa6d2a4a996c98d79ab2f569fa1\n",
      "Successfully built sklearn\n",
      "Installing collected packages: sklearn\n",
      "Successfully installed sklearn-0.0.post1\n"
     ]
    },
    {
     "name": "stderr",
     "output_type": "stream",
     "text": [
      "WARNING: You are using pip version 21.3.1; however, version 22.3.1 is available.\n",
      "You should consider upgrading via the 'C:\\Users\\ayber\\PycharmProjects\\Scalable_ML_Project_AQ\\venv\\Scripts\\python.exe -m pip install --upgrade pip' command.\n"
     ]
    }
   ]
  },
  {
   "cell_type": "code",
   "source": [
    "%%writefile app.py\n",
    "import streamlit as st\n",
    "import hopsworks\n",
    "import os\n",
    "import joblib\n",
    "import pandas as pd\n",
    "import dataframe_image as dfi\n",
    "import streamlit as st\n",
    "import joblib\n",
    "import numpy as np\n",
    "import folium\n",
    "from streamlit_folium import st_folium, folium_static\n",
    "import json\n",
    "import time\n",
    "from datetime import timedelta, datetime\n",
    "from branca.element import Figure\n",
    "from urllib.request import urlopen\n",
    "import joblib\n",
    "from API_call_visual_crossing import *\n",
    "from API_call_AQI  import *\n",
    "#----------------------------------HEADER + TITLE\n",
    "def fancy_header(text, font_size=24):\n",
    "    res = f'<span style=\"color:#ff5f27; font-size: {font_size}px;\">{text}</span>'\n",
    "    st.markdown(res, unsafe_allow_html=True )\n",
    "st.title('⛅️Air Quality Prediction Project🌩')\n",
    "\n",
    "progress_bar = st.sidebar.header('⚙️ Working Progress')\n",
    "progress_bar = st.sidebar.progress(0)\n",
    "st.write(36 * \"-\")\n",
    "\n",
    "#------------------------------------  Getting Data\n",
    "\n",
    "fancy_header('\\n☁️ Getting data for predict ...')\n",
    "city = 'Paris'\n",
    "date = ''\n",
    "\n",
    "\n",
    "WEATHER_API_KEY =\"V7VHELUHHCY7JPQ8332XPR8A9\"# = os.getenv('WEATHER_API_KEY')\n",
    "\n",
    "df_weather = get_weather_df(city, date, WEATHER_API_KEY)\n",
    "next_7_days = df_weather[\"date\"]\n",
    "data_7_days = df_weather.drop('date', axis=1)\n",
    "\n",
    "\n",
    "model = joblib.load(urlopen('https://github.com/reyrobs/Scalable_ML_Project_AQ/raw/main/aqi_model.pkl'))\n",
    "progress_bar.progress(20)\n",
    "st.write(36 * \"-\")\n",
    "\n",
    "#------------------------------------ PREDICTING\n",
    "fancy_header('\\n ✔️Predicting...')\n",
    "\n",
    "pred_7_days = model.predict(data_7_days)\n",
    "\n",
    "df = pd.DataFrame(data=pred_7_days, index=next_7_days, columns=[f\"AQI Predictions for the next 7 days\"], dtype=int)\n",
    "\n",
    "progress_bar.progress(60)\n",
    "#----------------------------------\n",
    "\n",
    "st.write(36 * \"-\")\n",
    "fancy_header(f\"🗺 Processing the map...\")\n",
    "\n",
    "fig = Figure(width=550,height=350)\n",
    "\n",
    "my_map = folium.Map(location=[58, 20], zoom_start=3.71)\n",
    "fig.add_child(my_map)\n",
    "folium.TileLayer('Stamen Terrain').add_to(my_map)\n",
    "folium.TileLayer('Stamen Toner').add_to(my_map)\n",
    "folium.TileLayer('Stamen Water Color').add_to(my_map)\n",
    "folium.TileLayer('cartodbpositron').add_to(my_map)\n",
    "folium.TileLayer('cartodbdark_matter').add_to(my_map)\n",
    "folium.LayerControl().add_to(my_map)\n",
    "\n",
    "#Determining Paris\n",
    "coords = [48.862, 2.346]\n",
    "#-----\n",
    "city = \"Pris\"\n",
    "country=\"France\"\n",
    "text=\"AQI \"\n",
    "\n",
    "#-----\n",
    "pred_7_days = np.asarray(pred_7_days, dtype = 'int')\n",
    "#pred_7_days.round(decimals=1, out= pred_7_days)\n",
    "text +=str((pred_7_days[0]))\n",
    "#-----\n",
    "\n",
    "folium.Marker(\n",
    "        location=coords, popup=text, tooltip=f\"<strong>{city}</strong>\"\n",
    "    ).add_to(my_map)\n",
    "\n",
    "\n",
    "# call to render Folium map in Streamlit\n",
    "folium_static(my_map)\n",
    "progress_bar.progress(80)\n",
    "st.sidebar.write(\"-\" * 36)\n",
    "\n",
    "\n",
    "st.sidebar.write(df)\n",
    "progress_bar.progress(100)\n",
    "st.button(\"Re-run\")\n"
   ],
   "metadata": {
    "colab": {
     "base_uri": "https://localhost:8080/"
    },
    "id": "HIed7WgkU30G",
    "outputId": "70b411fe-e9e7-4fbd-9611-72387d42ff3f"
   },
   "execution_count": 12,
   "outputs": [
    {
     "name": "stdout",
     "output_type": "stream",
     "text": [
      "Writing app.py\n"
     ]
    }
   ]
  },
  {
   "cell_type": "code",
   "source": [
    "!nohup streamlit run app.py --server.port 80 &\n",
    "url = ngrok.connect(port = '80')\n",
    "print(url)"
   ],
   "metadata": {
    "colab": {
     "base_uri": "https://localhost:8080/"
    },
    "id": "tdGSURy8VqHa",
    "outputId": "332c79bd-db46-4d9b-fb5e-c39b9501b72b"
   },
   "execution_count": 14,
   "outputs": [
    {
     "ename": "OSError",
     "evalue": "Background processes not supported.",
     "output_type": "error",
     "traceback": [
      "\u001B[1;31m---------------------------------------------------------------------------\u001B[0m",
      "\u001B[1;31mOSError\u001B[0m                                   Traceback (most recent call last)",
      "Cell \u001B[1;32mIn[14], line 1\u001B[0m\n\u001B[1;32m----> 1\u001B[0m \u001B[43mget_ipython\u001B[49m\u001B[43m(\u001B[49m\u001B[43m)\u001B[49m\u001B[38;5;241;43m.\u001B[39;49m\u001B[43msystem\u001B[49m\u001B[43m(\u001B[49m\u001B[38;5;124;43m'\u001B[39;49m\u001B[38;5;124;43mnohup streamlit run app.py --server.port 80 &\u001B[39;49m\u001B[38;5;124;43m'\u001B[39;49m\u001B[43m)\u001B[49m\n\u001B[0;32m      2\u001B[0m url \u001B[38;5;241m=\u001B[39m ngrok\u001B[38;5;241m.\u001B[39mconnect(port \u001B[38;5;241m=\u001B[39m \u001B[38;5;124m'\u001B[39m\u001B[38;5;124m80\u001B[39m\u001B[38;5;124m'\u001B[39m)\n\u001B[0;32m      3\u001B[0m \u001B[38;5;28mprint\u001B[39m(url)\n",
      "File \u001B[1;32m~\\PycharmProjects\\Scalable_ML_Project_AQ\\venv\\lib\\site-packages\\ipykernel\\zmqshell.py:619\u001B[0m, in \u001B[0;36mZMQInteractiveShell.system_piped\u001B[1;34m(self, cmd)\u001B[0m\n\u001B[0;32m    604\u001B[0m \u001B[38;5;250m\u001B[39m\u001B[38;5;124;03m\"\"\"Call the given cmd in a subprocess, piping stdout/err\u001B[39;00m\n\u001B[0;32m    605\u001B[0m \n\u001B[0;32m    606\u001B[0m \u001B[38;5;124;03mParameters\u001B[39;00m\n\u001B[1;32m   (...)\u001B[0m\n\u001B[0;32m    611\u001B[0m \u001B[38;5;124;03m    other than simple text.\u001B[39;00m\n\u001B[0;32m    612\u001B[0m \u001B[38;5;124;03m\"\"\"\u001B[39;00m\n\u001B[0;32m    613\u001B[0m \u001B[38;5;28;01mif\u001B[39;00m cmd\u001B[38;5;241m.\u001B[39mrstrip()\u001B[38;5;241m.\u001B[39mendswith(\u001B[38;5;124m\"\u001B[39m\u001B[38;5;124m&\u001B[39m\u001B[38;5;124m\"\u001B[39m):\n\u001B[0;32m    614\u001B[0m     \u001B[38;5;66;03m# this is *far* from a rigorous test\u001B[39;00m\n\u001B[0;32m    615\u001B[0m     \u001B[38;5;66;03m# We do not support backgrounding processes because we either use\u001B[39;00m\n\u001B[0;32m    616\u001B[0m     \u001B[38;5;66;03m# pexpect or pipes to read from.  Users can always just call\u001B[39;00m\n\u001B[0;32m    617\u001B[0m     \u001B[38;5;66;03m# os.system() or use ip.system=ip.system_raw\u001B[39;00m\n\u001B[0;32m    618\u001B[0m     \u001B[38;5;66;03m# if they really want a background process.\u001B[39;00m\n\u001B[1;32m--> 619\u001B[0m     \u001B[38;5;28;01mraise\u001B[39;00m \u001B[38;5;167;01mOSError\u001B[39;00m(\u001B[38;5;124m\"\u001B[39m\u001B[38;5;124mBackground processes not supported.\u001B[39m\u001B[38;5;124m\"\u001B[39m)\n\u001B[0;32m    621\u001B[0m \u001B[38;5;66;03m# we explicitly do NOT return the subprocess status code, because\u001B[39;00m\n\u001B[0;32m    622\u001B[0m \u001B[38;5;66;03m# a non-None value would trigger :func:`sys.displayhook` calls.\u001B[39;00m\n\u001B[0;32m    623\u001B[0m \u001B[38;5;66;03m# Instead, we store the exit_code in user_ns.\u001B[39;00m\n\u001B[0;32m    624\u001B[0m \u001B[38;5;66;03m# Also, protect system call from UNC paths on Windows here too\u001B[39;00m\n\u001B[0;32m    625\u001B[0m \u001B[38;5;66;03m# as is done in InteractiveShell.system_raw\u001B[39;00m\n\u001B[0;32m    626\u001B[0m \u001B[38;5;28;01mif\u001B[39;00m sys\u001B[38;5;241m.\u001B[39mplatform \u001B[38;5;241m==\u001B[39m \u001B[38;5;124m\"\u001B[39m\u001B[38;5;124mwin32\u001B[39m\u001B[38;5;124m\"\u001B[39m:\n",
      "\u001B[1;31mOSError\u001B[0m: Background processes not supported."
     ]
    }
   ]
  },
  {
   "cell_type": "code",
   "execution_count": null,
   "outputs": [],
   "source": [],
   "metadata": {
    "collapsed": false
   }
  }
 ]
}
