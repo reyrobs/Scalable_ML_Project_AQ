{
  "nbformat": 4,
  "nbformat_minor": 0,
  "metadata": {
    "colab": {
      "provenance": []
    },
    "kernelspec": {
      "name": "python3",
      "display_name": "Python 3"
    },
    "language_info": {
      "name": "python"
    }
  },
  "cells": [
    {
      "cell_type": "code",
      "source": [
        "!pip install -U hopsworks "
      ],
      "metadata": {
        "id": "5YjWIIQbogXl"
      },
      "execution_count": null,
      "outputs": []
    },
    {
      "cell_type": "code",
      "source": [
        "!pip install dataframe_image"
      ],
      "metadata": {
        "id": "L3aXmvATpFeu"
      },
      "execution_count": null,
      "outputs": []
    },
    {
      "cell_type": "code",
      "source": [
        "!pip install -q streamlit"
      ],
      "metadata": {
        "id": "trR_zvAhpOUH"
      },
      "execution_count": 3,
      "outputs": []
    },
    {
      "cell_type": "code",
      "source": [
        "!pip install --upgrade protobuf"
      ],
      "metadata": {
        "id": "lQPsHabcpxW4"
      },
      "execution_count": null,
      "outputs": []
    },
    {
      "cell_type": "code",
      "source": [
        "!pip install streamlit_folium"
      ],
      "metadata": {
        "id": "s3PBL4Htq56r"
      },
      "execution_count": null,
      "outputs": []
    },
    {
      "cell_type": "code",
      "source": [
        "!pip install pyngrok"
      ],
      "metadata": {
        "id": "1IdqQORiRX21"
      },
      "execution_count": null,
      "outputs": []
    },
    {
      "cell_type": "code",
      "source": [
        "!pip install python-dotenv"
      ],
      "metadata": {
        "id": "gApnbtrqzXOQ"
      },
      "execution_count": null,
      "outputs": []
    },
    {
      "cell_type": "code",
      "source": [
        "from pyngrok import ngrok"
      ],
      "metadata": {
        "id": "smLquxXMVKmj"
      },
      "execution_count": 8,
      "outputs": []
    },
    {
      "cell_type": "code",
      "source": [
        "ngrok.set_auth_token(\"2Jzz5UrcRRGTHRB1KeKe4M38bwG_mDhqRzgG61co9WY6dMVG\")"
      ],
      "metadata": {
        "id": "EjQURnOvVeRT"
      },
      "execution_count": 9,
      "outputs": []
    },
    {
      "cell_type": "code",
      "source": [
        "import hopsworks\n",
        "project = hopsworks.login()\n"
      ],
      "metadata": {
        "colab": {
          "base_uri": "https://localhost:8080/"
        },
        "id": "ZCVAcL7dqqX-",
        "outputId": "cda1f8ec-088a-4ebd-bed6-58515ddff8ad"
      },
      "execution_count": 10,
      "outputs": [
        {
          "output_type": "stream",
          "name": "stdout",
          "text": [
            "Connected. Call `.close()` to terminate connection gracefully.\n",
            "\n",
            "Logged in to project, explore it here https://c.app.hopsworks.ai:443/p/5315\n"
          ]
        }
      ]
    },
    {
      "cell_type": "code",
      "source": [
        "!git clone 'https://github.com/reyrobs/Scalable_ML_Project_AQ.git'"
      ],
      "metadata": {
        "colab": {
          "base_uri": "https://localhost:8080/"
        },
        "id": "WYdWBLNWr3c0",
        "outputId": "804bf195-0c8c-4a7e-9994-83aa6db8252b"
      },
      "execution_count": 11,
      "outputs": [
        {
          "output_type": "stream",
          "name": "stdout",
          "text": [
            "fatal: destination path 'Scalable_ML_Project_AQ' already exists and is not an empty directory.\n"
          ]
        }
      ]
    },
    {
      "cell_type": "code",
      "source": [
        "!pip install sklearn"
      ],
      "metadata": {
        "id": "niJjMFd5r4qS",
        "colab": {
          "base_uri": "https://localhost:8080/"
        },
        "outputId": "fc752013-c354-4e48-e22f-52df3ee7654f"
      },
      "execution_count": 35,
      "outputs": [
        {
          "output_type": "stream",
          "name": "stdout",
          "text": [
            "Looking in indexes: https://pypi.org/simple, https://us-python.pkg.dev/colab-wheels/public/simple/\n",
            "Collecting sklearn\n",
            "  Downloading sklearn-0.0.post1.tar.gz (3.6 kB)\n",
            "  Preparing metadata (setup.py) ... \u001b[?25l\u001b[?25hdone\n",
            "Building wheels for collected packages: sklearn\n",
            "  Building wheel for sklearn (setup.py) ... \u001b[?25l\u001b[?25hdone\n",
            "  Created wheel for sklearn: filename=sklearn-0.0.post1-py3-none-any.whl size=2344 sha256=b265fa35b98103496b70293ecac83abfbc82afea3181d0de71b86770fcd566f2\n",
            "  Stored in directory: /root/.cache/pip/wheels/14/25/f7/1cc0956978ae479e75140219088deb7a36f60459df242b1a72\n",
            "Successfully built sklearn\n",
            "Installing collected packages: sklearn\n",
            "Successfully installed sklearn-0.0.post1\n"
          ]
        }
      ]
    },
    {
      "cell_type": "code",
      "source": [
        "%%writefile app.py\n",
        "import streamlit as st\n",
        "import hopsworks\n",
        "import os\n",
        "import joblib\n",
        "import pandas as pd\n",
        "import dataframe_image as dfi\n",
        "import streamlit as st\n",
        "import joblib\n",
        "import numpy as np\n",
        "import folium\n",
        "from streamlit_folium import st_folium, folium_static\n",
        "import json\n",
        "import time\n",
        "from datetime import timedelta, datetime\n",
        "from branca.element import Figure\n",
        "from urllib.request import urlopen\n",
        "import joblib\n",
        "from API_call_visual_crossing import *\n",
        "from API_call_AQI  import *\n",
        "#----------------------------------HEADER + TITLE\n",
        "def fancy_header(text, font_size=24):\n",
        "    res = f'<span style=\"color:#ff5f27; font-size: {font_size}px;\">{text}</span>'\n",
        "    st.markdown(res, unsafe_allow_html=True )\n",
        "st.title('⛅️Air Quality Prediction Project🌩')\n",
        "\n",
        "progress_bar = st.sidebar.header('⚙️ Working Progress')\n",
        "progress_bar = st.sidebar.progress(0)\n",
        "st.write(36 * \"-\")\n",
        "\n",
        "#------------------------------------  Getting Data\n",
        "\n",
        "fancy_header('\\n☁️ Getting data for predict ...')\n",
        "city = 'Paris'\n",
        "date = ''\n",
        "\n",
        "\n",
        "WEATHER_API_KEY =\"V7VHELUHHCY7JPQ8332XPR8A9\"# = os.getenv('WEATHER_API_KEY')\n",
        "\n",
        "df_weather = get_weather_df(city, date, WEATHER_API_KEY)\n",
        "next_7_days = df_weather[\"date\"]\n",
        "data_7_days = df_weather.drop('date', axis=1)\n",
        "\n",
        "\n",
        "model = joblib.load(urlopen('https://github.com/reyrobs/Scalable_ML_Project_AQ/raw/main/aqi_model.pkl'))\n",
        "progress_bar.progress(20)\n",
        "st.write(36 * \"-\")\n",
        "\n",
        "#------------------------------------ PREDICTING\n",
        "fancy_header('\\n ✔️Predicting...')\n",
        "\n",
        "pred_7_days = model.predict(data_7_days)\n",
        "\n",
        "df = pd.DataFrame(data=pred_7_days, index=next_7_days, columns=[f\"AQI Predictions for the next 7 days\"], dtype=int)\n",
        "\n",
        "progress_bar.progress(60)\n",
        "#----------------------------------\n",
        "\n",
        "st.write(36 * \"-\")\n",
        "fancy_header(f\"🗺 Processing the map...\")\n",
        "\n",
        "fig = Figure(width=550,height=350)\n",
        "\n",
        "my_map = folium.Map(location=[58, 20], zoom_start=3.71)\n",
        "fig.add_child(my_map)\n",
        "folium.TileLayer('Stamen Terrain').add_to(my_map)\n",
        "folium.TileLayer('Stamen Toner').add_to(my_map)\n",
        "folium.TileLayer('Stamen Water Color').add_to(my_map)\n",
        "folium.TileLayer('cartodbpositron').add_to(my_map)\n",
        "folium.TileLayer('cartodbdark_matter').add_to(my_map)\n",
        "folium.LayerControl().add_to(my_map)\n",
        "\n",
        "#Determining Paris\n",
        "coords = [48.862, 2.346]\n",
        "#-----\n",
        "city = \"Pris\"\n",
        "country=\"France\"\n",
        "text=\"AQI \"\n",
        "\n",
        "#-----\n",
        "pred_7_days = np.asarray(pred_7_days, dtype = 'int')\n",
        "#pred_7_days.round(decimals=1, out= pred_7_days)\n",
        "text +=str((pred_7_days[0]))\n",
        "#-----\n",
        "\n",
        "folium.Marker(\n",
        "        location=coords, popup=text, tooltip=f\"<strong>{city}</strong>\"\n",
        "    ).add_to(my_map)\n",
        "\n",
        "\n",
        "# call to render Folium map in Streamlit\n",
        "folium_static(my_map)\n",
        "progress_bar.progress(80)\n",
        "st.sidebar.write(\"-\" * 36)\n",
        "\n",
        "\n",
        "st.sidebar.write(df)\n",
        "progress_bar.progress(100)\n",
        "st.button(\"Re-run\")\n"
      ],
      "metadata": {
        "colab": {
          "base_uri": "https://localhost:8080/"
        },
        "id": "HIed7WgkU30G",
        "outputId": "70b411fe-e9e7-4fbd-9611-72387d42ff3f"
      },
      "execution_count": 54,
      "outputs": [
        {
          "output_type": "stream",
          "name": "stdout",
          "text": [
            "Overwriting app.py\n"
          ]
        }
      ]
    },
    {
      "cell_type": "code",
      "source": [
        "!nohup streamlit run app.py --server.port 80 &\n",
        "url = ngrok.connect(port = '80')\n",
        "print(url)"
      ],
      "metadata": {
        "colab": {
          "base_uri": "https://localhost:8080/"
        },
        "id": "tdGSURy8VqHa",
        "outputId": "332c79bd-db46-4d9b-fb5e-c39b9501b72b"
      },
      "execution_count": 14,
      "outputs": [
        {
          "output_type": "stream",
          "name": "stdout",
          "text": [
            "nohup: appending output to 'nohup.out'\n",
            "NgrokTunnel: \"http://4f07-35-190-152-16.ngrok.io\" -> \"http://localhost:80\"\n"
          ]
        }
      ]
    }
  ]
}